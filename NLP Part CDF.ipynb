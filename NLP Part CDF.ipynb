{
 "cells": [
  {
   "cell_type": "raw",
   "id": "16ad3b5c",
   "metadata": {},
   "source": [
    "{\n",
    "\t\"task_desc\": \"Reading challeng, turn on the DeskLamp and start reading\",\n",
    "\t\"scene\": {\n",
    "\t\t\"scene_type\": [1, 2],\n",
    "\t\t\"simbot_init\": [],\n",
    "\t\t\"required_objects\": [\n",
    "\t\t\t{\n",
    "\t\t\t\t\"name\": \"Bed_1\",\n",
    "\t\t\t}\n",
    "\t\t\t,{\n",
    "\t\t\t\t\"name\": \"Desk_1\",\n",
    "\t\t\t\t\"location\": [{\n",
    "\t\t\t\t\t\"Bed_1\": \"away\"\n",
    "\t\t\t\t}]\n",
    "\t\t\t},\n",
    "\t\t]\n",
    "\t},\n",
    "\t\"task_goals\": []\n",
    "}"
   ]
  },
  {
   "cell_type": "code",
   "execution_count": 1,
   "id": "770f29c0",
   "metadata": {},
   "outputs": [],
   "source": [
    "sample_cdf = {\n",
    "\t\"task_desc\": \"\",\n",
    "\t\"scene\": {\n",
    "\t\t\"scene_type\": [],\n",
    "\t\t\"simbot_init\": [],\n",
    "\t\t\"required_objects\": [\n",
    "\t\t]\n",
    "\t},\n",
    "\t\"task_goals\": []\n",
    "}"
   ]
  },
  {
   "cell_type": "code",
   "execution_count": 2,
   "id": "5a571eb2",
   "metadata": {},
   "outputs": [
    {
     "data": {
      "text/plain": [
       "[]"
      ]
     },
     "execution_count": 2,
     "metadata": {},
     "output_type": "execute_result"
    }
   ],
   "source": [
    "sample_cdf[\"scene\"][\"required_objects\"]"
   ]
  },
  {
   "cell_type": "code",
   "execution_count": 3,
   "id": "ad1c94b5",
   "metadata": {},
   "outputs": [],
   "source": [
    "sample_desc = [(('office', 'in', '__room__'), ({'det': 'an'}, {})),\n",
    " (('window', 'in', '__room__'), ({'det': 'a', 'amod': 'large'}, {})),\n",
    " (('desk', 'in', '__room__'), ({'det': 'a', 'amod': 'wooden'}, {})),\n",
    " (('laptop', 'on', 'desk'), ({'det': 'a'}, {})),\n",
    " (('chair', 'in front of', 'desk'),\n",
    "  ({'det': 'an', 'compound': 'office'}, {'det': 'the'})),\n",
    " (('table', 'in', '__room__'),\n",
    "  ({'det': 'a', 'amod': 'small', 'compound': 'coffee'}, {}))]"
   ]
  },
  {
   "cell_type": "code",
   "execution_count": 4,
   "id": "d197c881",
   "metadata": {},
   "outputs": [],
   "source": [
    "furniture_count = {}"
   ]
  },
  {
   "cell_type": "code",
   "execution_count": 5,
   "id": "722d9b83",
   "metadata": {},
   "outputs": [],
   "source": [
    "def Desc2Ai2ThorName(desc):\n",
    "    object_name = desc[0][0]\n",
    "    relation = desc[0][1]\n",
    "    place_name = desc[0][2]\n",
    "    \n",
    "    attr = desc[1]\n",
    "    \n",
    "    object_name = object_name.capitalize()  # uppercase first letter\n",
    "    place_name = place_name.capitalize()\n",
    "    \n",
    "    if 'compound' in attr[0]:\n",
    "        comp = attr[0]['compound']\n",
    "        comp = comp.capitalize()\n",
    "        if object_name not in [\"Chair\"]:\n",
    "            object_name = comp + object_name\n",
    "        \n",
    "    return object_name, relation, place_name"
   ]
  },
  {
   "cell_type": "code",
   "execution_count": 6,
   "id": "5153b069",
   "metadata": {},
   "outputs": [
    {
     "data": {
      "text/plain": [
       "('Laptop', 'on', 'Desk')"
      ]
     },
     "execution_count": 6,
     "metadata": {},
     "output_type": "execute_result"
    }
   ],
   "source": [
    "Desc2Ai2ThorName( (('laptop', 'on', 'desk'), ({'det': 'a'}, {})))"
   ]
  },
  {
   "cell_type": "code",
   "execution_count": 7,
   "id": "2af8e4ca",
   "metadata": {},
   "outputs": [
    {
     "name": "stdout",
     "output_type": "stream",
     "text": [
      "(('office', 'in', '__room__'), ({'det': 'an'}, {}))\n",
      "(('window', 'in', '__room__'), ({'det': 'a', 'amod': 'large'}, {}))\n",
      "(('desk', 'in', '__room__'), ({'det': 'a', 'amod': 'wooden'}, {}))\n",
      "(('laptop', 'on', 'desk'), ({'det': 'a'}, {}))\n",
      "(('chair', 'in front of', 'desk'), ({'det': 'an', 'compound': 'office'}, {'det': 'the'}))\n",
      "(('table', 'in', '__room__'), ({'det': 'a', 'amod': 'small', 'compound': 'coffee'}, {}))\n"
     ]
    }
   ],
   "source": [
    "for desc in sample_desc:\n",
    "    print(desc)\n",
    "    object_name, relation, place_name = Desc2Ai2ThorName(desc)\n",
    "    \n",
    "    # resolve room type\n",
    "    if object_name in [\"Office\",\"Bedroom\"]:\n",
    "        if place_name == \"__room__\" or place_name == \"room\":\n",
    "            sample_cdf[\"scene\"][\"scene_type\"].append(1 if object_name == \"Office\" else 2)\n",
    "    \n",
    "    # resolve furniture\n",
    "    elif place_name == \"__room__\" or place_name == \"room\":\n",
    "        object_index = furniture_count.get(object_name, 0) + 1\n",
    "        \n",
    "        object_info = {\n",
    "            \"name\": \"{}_{}\".format(object_name, str(object_index)),\n",
    "        }\n",
    "        \n",
    "        sample_cdf[\"scene\"][\"required_objects\"].append(object_info)\n",
    "        furniture_count[object_name] = object_index\n",
    "    \n",
    "    # resolve object on furniture\n",
    "    elif relation in [\"on\", \"in front of\"]:\n",
    "        object_index = furniture_count.get(object_name, 0) + 1\n",
    "        \n",
    "        on_furniture = None\n",
    "        for obj in sample_cdf[\"scene\"][\"required_objects\"]:\n",
    "            if obj[\"name\"].split('_')[0] == place_name:\n",
    "                on_furniture = obj[\"name\"]\n",
    "        \n",
    "        if on_furniture is None:\n",
    "            raise(\"No furniture found\")\n",
    "        \n",
    "        relation2thor = relation if relation == \"on\" else \"face\"\n",
    "        \n",
    "        object_info = {\n",
    "            \"name\": \"{}_{}\".format(object_name, str(object_index)),\n",
    "            \"location\": [{\n",
    "            \"{}\".format(on_furniture): \"{}\".format(relation2thor)\n",
    "            }]\n",
    "        }\n",
    "        \n",
    "            \n",
    "        sample_cdf[\"scene\"][\"required_objects\"].append(object_info)\n",
    "        furniture_count[object_name] = object_index"
   ]
  },
  {
   "cell_type": "code",
   "execution_count": 8,
   "id": "315841f9",
   "metadata": {},
   "outputs": [
    {
     "data": {
      "text/plain": [
       "{'task_desc': '',\n",
       " 'scene': {'scene_type': [1],\n",
       "  'simbot_init': [],\n",
       "  'required_objects': [{'name': 'Window_1'},\n",
       "   {'name': 'Desk_1'},\n",
       "   {'name': 'Laptop_1', 'location': [{'Desk_1': 'on'}]},\n",
       "   {'name': 'Chair_1', 'location': [{'Desk_1': 'face'}]},\n",
       "   {'name': 'CoffeeTable_1'}]},\n",
       " 'task_goals': []}"
      ]
     },
     "execution_count": 8,
     "metadata": {},
     "output_type": "execute_result"
    }
   ],
   "source": [
    "sample_cdf"
   ]
  },
  {
   "cell_type": "code",
   "execution_count": 9,
   "id": "11c65dd1",
   "metadata": {},
   "outputs": [],
   "source": [
    "import json"
   ]
  },
  {
   "cell_type": "code",
   "execution_count": null,
   "id": "9c4dc72b",
   "metadata": {},
   "outputs": [],
   "source": []
  }
 ],
 "metadata": {
  "kernelspec": {
   "display_name": "Environment (conda_ll)",
   "language": "python",
   "name": "conda_ll"
  },
  "language_info": {
   "codemirror_mode": {
    "name": "ipython",
    "version": 3
   },
   "file_extension": ".py",
   "mimetype": "text/x-python",
   "name": "python",
   "nbconvert_exporter": "python",
   "pygments_lexer": "ipython3",
   "version": "3.9.4"
  }
 },
 "nbformat": 4,
 "nbformat_minor": 5
}
