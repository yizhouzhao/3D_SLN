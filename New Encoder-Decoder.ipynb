{
 "cells": [
  {
   "cell_type": "code",
   "execution_count": null,
   "id": "258b66cd",
   "metadata": {},
   "outputs": [],
   "source": [
    "from options.options import Options\n",
    "import os\n",
    "import torch\n",
    "from build_dataset_model import build_loaders, build_model\n",
    "from utils import get_model_attr, calculate_model_losses, tensor_aug\n",
    "from collections import defaultdict\n",
    "import math\n"
   ]
  },
  {
   "cell_type": "code",
   "execution_count": null,
   "id": "4bae3290",
   "metadata": {},
   "outputs": [],
   "source": [
    "from torch.utils.tensorboard import SummaryWriter\n",
    "from tqdm.auto import tqdm\n",
    "import numpy as np\n",
    "\n",
    "from new.CustomVAE import *\n",
    "from new.utils import resolve_relative_positions\n",
    "from utils import calculate_model_losses\n",
    "from data.suncg_dataset import g_add_in_room_relation, g_use_heuristic_relation_matrix, \\\n",
    "    g_prepend_room, g_add_random_parent_link, g_shuffle_subject_object\n",
    "\n",
    "# decoder option\n",
    "g_decoder_option = \"original\" #\"rgcn\"\n",
    "g_relative_location = \"False\"\n",
    "g_parent_link_index = 16\n",
    "\n",
    "args = Options().parse()\n",
    "if (args.output_dir is not None) and (not os.path.isdir(args.output_dir)):\n",
    "    os.mkdir(args.output_dir)\n",
    "if (args.test_dir is not None) and (not os.path.isdir(args.test_dir)):\n",
    "    os.mkdir(args.test_dir)"
   ]
  },
  {
   "cell_type": "code",
   "execution_count": null,
   "id": "6998b99e",
   "metadata": {},
   "outputs": [],
   "source": [
    "# has KL divergence loss\n",
    "args.use_AE = False"
   ]
  },
  {
   "cell_type": "code",
   "execution_count": null,
   "id": "6d01eec3",
   "metadata": {},
   "outputs": [],
   "source": [
    "# # tensorboard\n",
    "# writer = SummaryWriter()\n",
    "\n",
    "# writer.add_hparams({\n",
    "#     \"experiment type\": \"Decoder only: original version of the decoder\",\n",
    "#     \"decoder type\": g_decoder_option,\n",
    "#     \"use relative location\": g_relative_location,\n",
    "#     \"Add 'in_room' relation\": g_add_in_room_relation,\n",
    "#     \"Use heuristic relation matrix\": g_use_heuristic_relation_matrix,\n",
    "#     \"prepend/append room info\": g_prepend_room,\n",
    "#     \"add random parent link\": g_add_random_parent_link,\n",
    "#     \"shuffle object/subject when loading data\": g_shuffle_subject_object,\n",
    "# }, {\"NA\": 0})"
   ]
  },
  {
   "cell_type": "code",
   "execution_count": null,
   "id": "01e2419b",
   "metadata": {},
   "outputs": [],
   "source": [
    "# load data\n",
    "vocab, train_loader, val_loader = build_loaders(args)\n",
    "\n",
    "dt = train_loader.dataset"
   ]
  },
  {
   "cell_type": "code",
   "execution_count": null,
   "id": "e2d4dda9",
   "metadata": {},
   "outputs": [],
   "source": [
    "# model args\n",
    "kwargs = {\n",
    "        'vocab': dt.vocab,\n",
    "        'batch_size': args.batch_size,\n",
    "        'train_3d': args.train_3d,\n",
    "        'decoder_cat': args.decoder_cat,\n",
    "        'embedding_dim': 84,#args.embedding_dim,\n",
    "        'gconv_mode': args.gconv_mode,\n",
    "        'gconv_num_layers': args.gconv_num_layers,\n",
    "        'mlp_normalization': args.mlp_normalization,\n",
    "        'vec_noise_dim': args.vec_noise_dim,\n",
    "        'layout_noise_dim': args.layout_noise_dim,\n",
    "        'use_AE': args.use_AE\n",
    "    }"
   ]
  },
  {
   "cell_type": "code",
   "execution_count": null,
   "id": "a1adc916",
   "metadata": {},
   "outputs": [],
   "source": [
    "model_encoder = TransformerEncoder(**kwargs)\n",
    "model_encoder = model_encoder.cuda()\n",
    "optimizer_encoder = torch.optim.Adam(model_encoder.parameters(), lr=args.learning_rate)\n",
    "\n",
    "# load decoder\n",
    "if g_decoder_option == \"original\":\n",
    "    model_decoder = OriVAEDecoder(**kwargs)\n",
    "elif g_decoder_option == \"rgcn\":\n",
    "    model_decoder = RGCNConv(**kwargs)\n",
    "else:\n",
    "    raise(\"MODEL MISSING {}\".format(g_decoder_option))\n",
    "model_decoder = model_decoder.cuda()\n",
    "optimizer_decoder = torch.optim.Adam(model_decoder.parameters(), lr=args.learning_rate) "
   ]
  },
  {
   "cell_type": "code",
   "execution_count": null,
   "id": "172f2507",
   "metadata": {},
   "outputs": [],
   "source": [
    "for batch in tqdm(train_loader):\n",
    "    #t += 1\n",
    "    ids, objs, boxes, triples, angles, attributes, obj_to_img, triple_to_img = tensor_aug(batch)\n",
    "    z = torch.randn(objs.size(0), 64).to(objs.device)\n",
    "    break"
   ]
  },
  {
   "cell_type": "code",
   "execution_count": null,
   "id": "4c1aeb04",
   "metadata": {},
   "outputs": [],
   "source": [
    "# attention mask\n",
    "obj_counts = [torch.sum(obj_to_img == i).item() for i in range(args.batch_size)]\n",
    "block_list = [torch.ones((obj_counts[i],obj_counts[i])) for i in range(args.batch_size)]\n",
    "attention_mask = torch.block_diag(*block_list).to(objs.device) # [BxB]\n",
    "\n",
    "# encoder\n",
    "hidden_states = model_encoder.encoder(objs, boxes, angles, attributes, attention_mask)\n",
    "mu, logvar = model_encoder.get_hidden_representation(hidden_states)"
   ]
  },
  {
   "cell_type": "code",
   "execution_count": null,
   "id": "a078ec68",
   "metadata": {},
   "outputs": [],
   "source": [
    "# obj_vecs = hidden_states.squeeze(0)\n",
    "# obj_vecs_box = model_encoder.box_mean_var(obj_vecs)\n",
    "# mu_box = model_encoder.box_mean(obj_vecs_box)\n",
    "# logvar_box = model_encoder.box_var(obj_vecs_box)\n",
    "\n",
    "# obj_vecs_angle = model_encoder.angle_mean_var(obj_vecs)\n",
    "# mu_angle = model_encoder.angle_mean(obj_vecs_angle)\n",
    "# logvar_angle = model_encoder.angle_var(obj_vecs_angle)\n",
    "\n",
    "# mu = torch.cat([mu_box, mu_angle], dim=1)\n",
    "# logvar = torch.cat([logvar_box, logvar_angle], dim=1)\n",
    "\n",
    "# mu.shape\n",
    "\n",
    "# logvar.shape"
   ]
  },
  {
   "cell_type": "code",
   "execution_count": null,
   "id": "16f95d61",
   "metadata": {},
   "outputs": [],
   "source": [
    "if args.use_AE:\n",
    "    z = mu\n",
    "else:\n",
    "    # reparameterization\n",
    "    std = torch.exp(0.5*logvar)\n",
    "    # standard sampling\n",
    "    eps = torch.randn_like(std)\n",
    "    z = eps.mul(std).add_(mu)"
   ]
  },
  {
   "cell_type": "code",
   "execution_count": null,
   "id": "c3316e7d",
   "metadata": {},
   "outputs": [],
   "source": [
    "z.shape"
   ]
  },
  {
   "cell_type": "code",
   "execution_count": null,
   "id": "22ee7f1f",
   "metadata": {},
   "outputs": [],
   "source": [
    "boxes_pred, angles_pred = model_decoder.decoder(z, objs, triples, attributes)"
   ]
  },
  {
   "cell_type": "code",
   "execution_count": null,
   "id": "38ee709d",
   "metadata": {},
   "outputs": [],
   "source": [
    "if args.KL_linear_decay:\n",
    "    KL_weight = 10 ** (t // 1e5 - 6)\n",
    "else:\n",
    "    KL_weight = args.KL_loss_weight\n",
    "total_loss, losses = calculate_model_losses(args, None, boxes, boxes_pred, angles, angles_pred, mu=mu, logvar=logvar, KL_weight=KL_weight)\n",
    "losses['total_loss'] = total_loss.item()\n",
    "if not math.isfinite(losses['total_loss']):\n",
    "    print('WARNING: Got loss = NaN, not backpropping')\n",
    "    pass #continue"
   ]
  },
  {
   "cell_type": "code",
   "execution_count": null,
   "id": "ed364bdb",
   "metadata": {},
   "outputs": [],
   "source": [
    "losses"
   ]
  },
  {
   "cell_type": "code",
   "execution_count": null,
   "id": "afd182e8",
   "metadata": {},
   "outputs": [],
   "source": [
    "total_loss.item()"
   ]
  },
  {
   "cell_type": "code",
   "execution_count": null,
   "id": "09a40dd6",
   "metadata": {},
   "outputs": [],
   "source": []
  }
 ],
 "metadata": {
  "kernelspec": {
   "display_name": "Environment (conda_ll)",
   "language": "python",
   "name": "conda_ll"
  },
  "language_info": {
   "codemirror_mode": {
    "name": "ipython",
    "version": 3
   },
   "file_extension": ".py",
   "mimetype": "text/x-python",
   "name": "python",
   "nbconvert_exporter": "python",
   "pygments_lexer": "ipython3",
   "version": "3.9.4"
  }
 },
 "nbformat": 4,
 "nbformat_minor": 5
}
