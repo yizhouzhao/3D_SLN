{
 "cells": [
  {
   "cell_type": "code",
   "execution_count": 1,
   "id": "static-function",
   "metadata": {},
   "outputs": [],
   "source": [
    "from options.options import Options\n",
    "import os\n",
    "import torch\n",
    "from build_dataset_model import build_loaders, build_model\n",
    "from utils import get_model_attr, calculate_model_losses, tensor_aug\n",
    "from collections import defaultdict\n",
    "import math"
   ]
  },
  {
   "cell_type": "code",
   "execution_count": 2,
   "id": "printable-replication",
   "metadata": {},
   "outputs": [],
   "source": [
    "from torch.utils.tensorboard import SummaryWriter\n",
    "from tqdm.auto import tqdm"
   ]
  },
  {
   "cell_type": "code",
   "execution_count": 3,
   "id": "occupational-julian",
   "metadata": {
    "scrolled": true
   },
   "outputs": [
    {
     "name": "stdout",
     "output_type": "stream",
     "text": [
      "| options\n",
      "dataset: suncg\n",
      "suncg_train_dir: metadata/data_rot_train.json\n",
      "suncg_val_dir: metadata/data_rot_val.json\n",
      "suncg_data_dir: /home/yizhou/Research/SUNCG/suncg_data\n",
      "loader_num_workers: 8\n",
      "embedding_dim: 64\n",
      "gconv_mode: feedforward\n",
      "gconv_dim: 128\n",
      "gconv_hidden_dim: 512\n",
      "gconv_num_layers: 5\n",
      "mlp_normalization: batch\n",
      "vec_noise_dim: 0\n",
      "layout_noise_dim: 32\n",
      "batch_size: 16\n",
      "num_iterations: 60000\n",
      "eval_mode_after: -1\n",
      "learning_rate: 0.0001\n",
      "print_every: 100\n",
      "checkpoint_every: 1000\n",
      "snapshot_every: 10000\n",
      "output_dir: ./checkpoints\n",
      "checkpoint_name: latest_checkpoint\n",
      "timing: False\n",
      "multigpu: False\n",
      "restore_from_checkpoint: False\n",
      "checkpoint_start_from: None\n",
      "test_dir: ./layouts_out\n",
      "gpu_id: 0\n",
      "KL_loss_weight: 0.1\n",
      "use_AE: False\n",
      "decoder_cat: True\n",
      "train_3d: True\n",
      "KL_linear_decay: False\n",
      "use_attr_30: True\n",
      "manual_seed: 42\n",
      "batch_gen: False\n",
      "measure_acc_l1_std: False\n",
      "heat_map: False\n",
      "draw_2d: False\n",
      "draw_3d: False\n",
      "fine_tune: False\n",
      "gan_shade: False\n",
      "blender_path: /home/yizhou/blender-2.92.0-linux64/blender\n",
      "\n"
     ]
    }
   ],
   "source": [
    "args = Options().parse()\n",
    "if (args.output_dir is not None) and (not os.path.isdir(args.output_dir)):\n",
    "    os.mkdir(args.output_dir)\n",
    "if (args.test_dir is not None) and (not os.path.isdir(args.test_dir)):\n",
    "    os.mkdir(args.test_dir)"
   ]
  },
  {
   "cell_type": "code",
   "execution_count": 4,
   "id": "remarkable-hopkins",
   "metadata": {},
   "outputs": [],
   "source": [
    "args.use_AE = True"
   ]
  },
  {
   "cell_type": "code",
   "execution_count": 5,
   "id": "cordless-capitol",
   "metadata": {},
   "outputs": [],
   "source": [
    "# tensorboard\n",
    "writer = SummaryWriter()"
   ]
  },
  {
   "cell_type": "code",
   "execution_count": 6,
   "id": "bound-snowboard",
   "metadata": {},
   "outputs": [
    {
     "name": "stdout",
     "output_type": "stream",
     "text": [
      "Starting to read the json file for SUNCG\n",
      "loading relation score matrix from:  new/relation_graph_v1.p\n",
      "Training dataset has 53860 scenes and 708041 objects\n",
      "(13.15 objects per image)\n",
      "Starting to read the json file for SUNCG\n",
      "loading relation score matrix from:  new/relation_graph_v1.p\n"
     ]
    }
   ],
   "source": [
    "# load data\n",
    "vocab, train_loader, val_loader = build_loaders(args)"
   ]
  },
  {
   "cell_type": "code",
   "execution_count": 7,
   "id": "imported-campaign",
   "metadata": {},
   "outputs": [],
   "source": [
    "dt = train_loader.dataset"
   ]
  },
  {
   "cell_type": "code",
   "execution_count": 8,
   "id": "hundred-cache",
   "metadata": {},
   "outputs": [],
   "source": [
    "from new.CustomVAE import *\n",
    "from utils import calculate_model_losses"
   ]
  },
  {
   "cell_type": "code",
   "execution_count": 9,
   "id": "blank-captain",
   "metadata": {},
   "outputs": [],
   "source": [
    "# load decoder\n",
    "ovaed = OriVAEDecoder(dt.vocab, embedding_dim=64)"
   ]
  },
  {
   "cell_type": "code",
   "execution_count": 10,
   "id": "fifty-marketing",
   "metadata": {},
   "outputs": [],
   "source": [
    "optimizer = torch.optim.Adam(ovaed.parameters(), lr=args.learning_rate)"
   ]
  },
  {
   "cell_type": "code",
   "execution_count": 11,
   "id": "increasing-portable",
   "metadata": {},
   "outputs": [],
   "source": [
    "ovaed = ovaed.cuda()"
   ]
  },
  {
   "cell_type": "code",
   "execution_count": 12,
   "id": "honey-smooth",
   "metadata": {},
   "outputs": [],
   "source": [
    "t = 0 # total steps"
   ]
  },
  {
   "cell_type": "code",
   "execution_count": 13,
   "id": "italic-negative",
   "metadata": {},
   "outputs": [
    {
     "data": {
      "application/vnd.jupyter.widget-view+json": {
       "model_id": "84d244f61e5c4ba889f09eb88436705e",
       "version_major": 2,
       "version_minor": 0
      },
      "text/plain": [
       "  0%|          | 0/3367 [00:00<?, ?it/s]"
      ]
     },
     "metadata": {},
     "output_type": "display_data"
    },
    {
     "name": "stdout",
     "output_type": "stream",
     "text": [
      "On batch 100 out of 60000\n",
      " [bbox_pred]: 0.2670\n",
      " [angle_pred]: 1.4085\n",
      "On batch 200 out of 60000\n",
      " [bbox_pred]: 0.2327\n",
      " [angle_pred]: 1.5395\n",
      "On batch 300 out of 60000\n",
      " [bbox_pred]: 0.2356\n",
      " [angle_pred]: 1.8668\n",
      "On batch 400 out of 60000\n",
      " [bbox_pred]: 0.2043\n",
      " [angle_pred]: 1.4522\n",
      "On batch 500 out of 60000\n",
      " [bbox_pred]: 0.1894\n",
      " [angle_pred]: 1.2239\n",
      "On batch 600 out of 60000\n",
      " [bbox_pred]: 0.1893\n",
      " [angle_pred]: 1.2829\n",
      "On batch 700 out of 60000\n",
      " [bbox_pred]: 0.1986\n",
      " [angle_pred]: 1.1789\n",
      "On batch 800 out of 60000\n",
      " [bbox_pred]: 0.1813\n",
      " [angle_pred]: 1.4180\n",
      "On batch 900 out of 60000\n",
      " [bbox_pred]: 0.1820\n",
      " [angle_pred]: 1.1814\n",
      "On batch 1000 out of 60000\n",
      " [bbox_pred]: 0.1759\n",
      " [angle_pred]: 1.1798\n",
      "On batch 1100 out of 60000\n",
      " [bbox_pred]: 0.1923\n",
      " [angle_pred]: 1.3681\n",
      "On batch 1200 out of 60000\n",
      " [bbox_pred]: 0.1686\n",
      " [angle_pred]: 1.3169\n",
      "On batch 1300 out of 60000\n",
      " [bbox_pred]: 0.1704\n",
      " [angle_pred]: 1.6263\n",
      "On batch 1400 out of 60000\n",
      " [bbox_pred]: 0.1708\n",
      " [angle_pred]: 1.3382\n",
      "On batch 1500 out of 60000\n",
      " [bbox_pred]: 0.1902\n",
      " [angle_pred]: 1.2360\n",
      "On batch 1600 out of 60000\n",
      " [bbox_pred]: 0.1669\n",
      " [angle_pred]: 1.2707\n",
      "On batch 1700 out of 60000\n",
      " [bbox_pred]: 0.1647\n",
      " [angle_pred]: 1.3062\n",
      "On batch 1800 out of 60000\n",
      " [bbox_pred]: 0.1906\n",
      " [angle_pred]: 1.3169\n",
      "On batch 1900 out of 60000\n",
      " [bbox_pred]: 0.1636\n",
      " [angle_pred]: 1.2046\n",
      "On batch 2000 out of 60000\n",
      " [bbox_pred]: 0.1617\n",
      " [angle_pred]: 1.1898\n",
      "On batch 2100 out of 60000\n",
      " [bbox_pred]: 0.1588\n",
      " [angle_pred]: 1.1939\n",
      "On batch 2200 out of 60000\n",
      " [bbox_pred]: 0.1497\n",
      " [angle_pred]: 1.2822\n",
      "On batch 2300 out of 60000\n",
      " [bbox_pred]: 0.1638\n",
      " [angle_pred]: 1.2419\n",
      "On batch 2400 out of 60000\n",
      " [bbox_pred]: 0.1646\n",
      " [angle_pred]: 1.2284\n",
      "On batch 2500 out of 60000\n",
      " [bbox_pred]: 0.1600\n",
      " [angle_pred]: 1.2885\n",
      "On batch 2600 out of 60000\n",
      " [bbox_pred]: 0.1569\n",
      " [angle_pred]: 1.1814\n",
      "On batch 2700 out of 60000\n",
      " [bbox_pred]: 0.1478\n",
      " [angle_pred]: 1.3200\n",
      "On batch 2800 out of 60000\n",
      " [bbox_pred]: 0.1662\n",
      " [angle_pred]: 1.3179\n",
      "On batch 2900 out of 60000\n",
      " [bbox_pred]: 0.1567\n",
      " [angle_pred]: 1.1929\n",
      "On batch 3000 out of 60000\n",
      " [bbox_pred]: 0.1583\n",
      " [angle_pred]: 1.1647\n",
      "On batch 3100 out of 60000\n",
      " [bbox_pred]: 0.1483\n",
      " [angle_pred]: 1.2916\n",
      "On batch 3200 out of 60000\n",
      " [bbox_pred]: 0.1540\n",
      " [angle_pred]: 1.4066\n",
      "On batch 3300 out of 60000\n",
      " [bbox_pred]: 0.1538\n",
      " [angle_pred]: 1.1489\n"
     ]
    }
   ],
   "source": [
    "# training\n",
    "ovaed.train()\n",
    "for batch in tqdm(train_loader):\n",
    "    t += 1\n",
    "    \n",
    "    ids, objs, boxes, triples, angles, attributes, obj_to_img, triple_to_img = tensor_aug(batch)\n",
    "    z = torch.randn(objs.size(0), 64).to(objs.device)\n",
    "    boxes_pred, angles_pred = ovaed.decoder(z, objs, triples, attributes)\n",
    "    \n",
    "    total_loss, losses = calculate_model_losses(args, ovaed, boxes_pred, boxes, angles, angles_pred)\n",
    "    \n",
    "    optimizer.zero_grad()\n",
    "    total_loss.backward()\n",
    "    optimizer.step()\n",
    "    \n",
    "    if t % args.print_every == 0:\n",
    "        print(\"On batch {} out of {}\".format(t, args.num_iterations))\n",
    "        for name, val in losses.items():\n",
    "            print(' [%s]: %.4f' % (name, val))\n",
    "            writer.add_scalar('Loss/'+ name, val, t)\n",
    "    "
   ]
  },
  {
   "cell_type": "code",
   "execution_count": 14,
   "id": "aggregate-jonathan",
   "metadata": {},
   "outputs": [],
   "source": [
    "valid_t = 0"
   ]
  },
  {
   "cell_type": "code",
   "execution_count": 15,
   "id": "behavioral-shirt",
   "metadata": {},
   "outputs": [
    {
     "data": {
      "application/vnd.jupyter.widget-view+json": {
       "model_id": "da06ba84de624ce889400c24d72adb3b",
       "version_major": 2,
       "version_minor": 0
      },
      "text/plain": [
       "  0%|          | 0/842 [00:00<?, ?it/s]"
      ]
     },
     "metadata": {},
     "output_type": "display_data"
    }
   ],
   "source": [
    "# validation\n",
    "ovaed.eval()\n",
    "for batch in tqdm(val_loader):\n",
    "    valid_t += 1\n",
    "    \n",
    "    ids, objs, boxes, triples, angles, attributes, obj_to_img, triple_to_img = tensor_aug(batch)\n",
    "    z = torch.randn(objs.size(0), 64).to(objs.device)\n",
    "    boxes_pred, angles_pred = ovaed.decoder(z, objs, triples, attributes)\n",
    "    \n",
    "    total_loss, losses = calculate_model_losses(args, ovaed, boxes_pred, boxes, angles, angles_pred)\n",
    "    \n",
    "    if t % args.print_every == 0:\n",
    "        print(\"On batch {} out of {}\".format(t, args.num_iterations))\n",
    "        for name, val in losses.items():\n",
    "            print(' [%s]: %.4f' % (name, val))\n",
    "            writer.add_scalar('Loss/Validation/'+ name, val, valid_t)\n",
    "    "
   ]
  }
 ],
 "metadata": {
  "kernelspec": {
   "display_name": "Environment (conda_pytorch_latest_p37)",
   "language": "python",
   "name": "conda_pytorch_latest_p37"
  },
  "language_info": {
   "codemirror_mode": {
    "name": "ipython",
    "version": 3
   },
   "file_extension": ".py",
   "mimetype": "text/x-python",
   "name": "python",
   "nbconvert_exporter": "python",
   "pygments_lexer": "ipython3",
   "version": "3.7.10"
  }
 },
 "nbformat": 4,
 "nbformat_minor": 5
}
