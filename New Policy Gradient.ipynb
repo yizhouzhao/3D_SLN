{
 "cells": [
  {
   "cell_type": "code",
   "execution_count": 1,
   "id": "b6b38721",
   "metadata": {},
   "outputs": [],
   "source": [
    "from options.options import Options\n",
    "import os\n",
    "import torch\n",
    "from build_dataset_model import build_loaders, build_model\n",
    "from utils import get_model_attr, calculate_model_losses, tensor_aug\n",
    "from collections import defaultdict\n",
    "import math\n"
   ]
  },
  {
   "cell_type": "code",
   "execution_count": 2,
   "id": "1f2b0f9e",
   "metadata": {},
   "outputs": [],
   "source": [
    "from torch.utils.tensorboard import SummaryWriter\n",
    "from tqdm.auto import tqdm\n",
    "import numpy as np\n",
    "\n",
    "from new.CustomVAE import *\n",
    "from new.utils import resolve_relative_positions, obtain_sampled_relations\n",
    "from utils import calculate_model_losses\n",
    "from data.suncg_dataset import g_add_in_room_relation, g_use_heuristic_relation_matrix, \\\n",
    "    g_prepend_room, g_add_random_parent_link, g_shuffle_subject_object"
   ]
  },
  {
   "cell_type": "code",
   "execution_count": 45,
   "id": "0870cdcf",
   "metadata": {},
   "outputs": [],
   "source": [
    "from torch_scatter import scatter_mean"
   ]
  },
  {
   "cell_type": "code",
   "execution_count": 3,
   "id": "88bb4708",
   "metadata": {},
   "outputs": [
    {
     "name": "stdout",
     "output_type": "stream",
     "text": [
      "| options\n",
      "dataset: suncg\n",
      "suncg_train_dir: metadata/data_rot_train.json\n",
      "suncg_val_dir: metadata/data_rot_val.json\n",
      "suncg_data_dir: /home/yizhou/Research/SUNCG/suncg_data\n",
      "loader_num_workers: 8\n",
      "embedding_dim: 64\n",
      "gconv_mode: feedforward\n",
      "gconv_dim: 128\n",
      "gconv_hidden_dim: 512\n",
      "gconv_num_layers: 5\n",
      "mlp_normalization: batch\n",
      "vec_noise_dim: 0\n",
      "layout_noise_dim: 32\n",
      "batch_size: 16\n",
      "num_iterations: 20000\n",
      "eval_mode_after: -1\n",
      "learning_rate: 0.0001\n",
      "print_every: 100\n",
      "checkpoint_every: 1000\n",
      "snapshot_every: 10000\n",
      "output_dir: ./checkpoints\n",
      "checkpoint_name: latest_checkpoint\n",
      "timing: False\n",
      "multigpu: False\n",
      "restore_from_checkpoint: False\n",
      "checkpoint_start_from: None\n",
      "test_dir: ./layouts_out\n",
      "gpu_id: 0\n",
      "KL_loss_weight: 0.1\n",
      "use_AE: False\n",
      "decoder_cat: True\n",
      "train_3d: True\n",
      "KL_linear_decay: False\n",
      "use_attr_30: True\n",
      "manual_seed: 42\n",
      "batch_gen: False\n",
      "measure_acc_l1_std: False\n",
      "heat_map: False\n",
      "draw_2d: False\n",
      "draw_3d: False\n",
      "fine_tune: False\n",
      "gan_shade: False\n",
      "blender_path: /home/yizhou/blender-2.92.0-linux64/blender\n",
      "\n"
     ]
    }
   ],
   "source": [
    "# decoder option\n",
    "g_decoder_option = \"original\" #\"rgcn\"\n",
    "g_relative_location = \"False\"\n",
    "g_parent_link_index = 16\n",
    "\n",
    "args = Options().parse()\n",
    "if (args.output_dir is not None) and (not os.path.isdir(args.output_dir)):\n",
    "    os.mkdir(args.output_dir)\n",
    "if (args.test_dir is not None) and (not os.path.isdir(args.test_dir)):\n",
    "    os.mkdir(args.test_dir)"
   ]
  },
  {
   "cell_type": "code",
   "execution_count": 4,
   "id": "ea8993d2",
   "metadata": {},
   "outputs": [],
   "source": [
    "# has KL divergence loss\n",
    "# args.use_AE = False"
   ]
  },
  {
   "cell_type": "code",
   "execution_count": 5,
   "id": "3312688e",
   "metadata": {},
   "outputs": [
    {
     "data": {
      "text/plain": [
       "\"Namespace(dataset='suncg', suncg_train_dir='metadata/data_rot_train.json', suncg_val_dir='metadata/data_rot_val.json', suncg_data_dir='/home/yizhou/Research/SUNCG/suncg_data', loader_num_workers=8, embedding_dim=64, gconv_mode='feedforward', gconv_dim=128, gconv_hidden_dim=512, gconv_num_layers=5, mlp_normalization='batch', vec_noise_dim=0, layout_noise_dim=32, batch_size=16, num_iterations=20000, eval_mode_after=-1, learning_rate=0.0001, print_every=100, checkpoint_every=1000, snapshot_every=10000, output_dir='./checkpoints', checkpoint_name='latest_checkpoint', timing=False, multigpu=False, restore_from_checkpoint=False, checkpoint_start_from=None, test_dir='./layouts_out', gpu_id=0, KL_loss_weight=0.1, use_AE=True, decoder_cat=True, train_3d=True, KL_linear_decay=False, use_attr_30=True, manual_seed=42, batch_gen=False, measure_acc_l1_std=False, heat_map=False, draw_2d=False, draw_3d=False, fine_tune=False, gan_shade=False, blender_path='/home/yizhou/blender-2.92.0-linux64/blender')\""
      ]
     },
     "execution_count": 5,
     "metadata": {},
     "output_type": "execute_result"
    }
   ],
   "source": [
    "str(args)"
   ]
  },
  {
   "cell_type": "code",
   "execution_count": 6,
   "id": "7db28f2d",
   "metadata": {},
   "outputs": [
    {
     "name": "stdout",
     "output_type": "stream",
     "text": [
      "Starting to read the json file for SUNCG\n",
      "Training dataset has 53860 scenes and 708041 objects\n",
      "(13.15 objects per image)\n",
      "Starting to read the json file for SUNCG\n"
     ]
    }
   ],
   "source": [
    "# load data\n",
    "vocab, train_loader, val_loader = build_loaders(args)\n",
    "\n",
    "dt = train_loader.dataset"
   ]
  },
  {
   "cell_type": "code",
   "execution_count": 7,
   "id": "cdbb5421",
   "metadata": {},
   "outputs": [],
   "source": [
    "# model args\n",
    "kwargs = {\n",
    "        'vocab': dt.vocab,\n",
    "        'batch_size': args.batch_size,\n",
    "        'train_3d': args.train_3d,\n",
    "        'decoder_cat': args.decoder_cat,\n",
    "        'embedding_dim': 84,#args.embedding_dim,\n",
    "        'gconv_mode': args.gconv_mode,\n",
    "        'gconv_num_layers': args.gconv_num_layers,\n",
    "        'mlp_normalization': args.mlp_normalization,\n",
    "        'vec_noise_dim': args.vec_noise_dim,\n",
    "        'layout_noise_dim': args.layout_noise_dim,\n",
    "        'use_AE': args.use_AE\n",
    "    }"
   ]
  },
  {
   "cell_type": "code",
   "execution_count": 8,
   "id": "4de6fae5",
   "metadata": {},
   "outputs": [],
   "source": [
    "# load encoder\n",
    "model_encoder = TransformerEncoder(**kwargs)\n",
    "model_encoder = model_encoder.cuda()\n",
    "optimizer_encoder = torch.optim.Adam(model_encoder.parameters(), lr=args.learning_rate)\n"
   ]
  },
  {
   "cell_type": "code",
   "execution_count": 9,
   "id": "0c46bf42",
   "metadata": {},
   "outputs": [],
   "source": [
    "# load decoder\n",
    "if g_decoder_option == \"original\":\n",
    "    model_decoder = OriVAEDecoder(**kwargs)\n",
    "elif g_decoder_option == \"rgcn\":\n",
    "    model_decoder = RGCNConv(**kwargs)\n",
    "else:\n",
    "    raise(\"MODEL MISSING {}\".format(g_decoder_option))\n",
    "model_decoder = model_decoder.cuda()\n",
    "optimizer_decoder = torch.optim.Adam(model_decoder.parameters(), lr=args.learning_rate) "
   ]
  },
  {
   "cell_type": "code",
   "execution_count": 10,
   "id": "9a7642ed",
   "metadata": {},
   "outputs": [],
   "source": [
    "# load graph generator\n",
    "model_generator = GraphGenerator(**kwargs)\n",
    "model_generator = model_generator.cuda()\n",
    "optimizer_generator = torch.optim.Adam(model_generator.parameters(), lr=args.learning_rate) "
   ]
  },
  {
   "cell_type": "code",
   "execution_count": 11,
   "id": "bff983fd",
   "metadata": {},
   "outputs": [
    {
     "data": {
      "application/vnd.jupyter.widget-view+json": {
       "model_id": "6731cb4bc6d2459aa9504bbc7154a010",
       "version_major": 2,
       "version_minor": 0
      },
      "text/plain": [
       "  0%|          | 0/3367 [00:00<?, ?it/s]"
      ]
     },
     "metadata": {},
     "output_type": "display_data"
    }
   ],
   "source": [
    "for batch in tqdm(train_loader):\n",
    "    #t += 1\n",
    "    ids, objs, boxes, triples, angles, attributes, obj_to_img, triple_to_img = tensor_aug(batch)\n",
    "    break"
   ]
  },
  {
   "cell_type": "code",
   "execution_count": 12,
   "id": "6956c4c2",
   "metadata": {},
   "outputs": [],
   "source": [
    "# attention mask\n",
    "obj_counts = [torch.sum(obj_to_img == i).item() for i in range(args.batch_size)]\n",
    "block_list = [torch.ones((obj_counts[i],obj_counts[i])) for i in range(args.batch_size)]\n",
    "attention_mask = torch.block_diag(*block_list).to(objs.device) # [BxB]\n",
    "\n",
    "# encoder\n",
    "hidden_states = model_encoder.encoder(objs, boxes, angles, attributes, attention_mask)\n",
    "mu, logvar = model_encoder.get_hidden_representation(hidden_states)"
   ]
  },
  {
   "cell_type": "code",
   "execution_count": 14,
   "id": "2c9a7e92",
   "metadata": {},
   "outputs": [],
   "source": [
    "# calculate edges\n",
    "score_matrix = model_generator.get_score_matrix(hidden_states, attention_mask)\n",
    "all_samples, all_log_probs, all_entropy = model_generator.sample(score_matrix, obj_to_img)\n",
    "\n",
    "# query new relation\n",
    "new_triples = obtain_sampled_relations(objs, all_samples, boxes.cpu().data, dt.vocab)"
   ]
  },
  {
   "cell_type": "code",
   "execution_count": 28,
   "id": "27dd71a0",
   "metadata": {},
   "outputs": [],
   "source": [
    "# reparameterization\n",
    "if args.use_AE:\n",
    "    z = mu\n",
    "else:\n",
    "    std = torch.exp(0.5*logvar)\n",
    "    # standard sampling\n",
    "    eps = torch.randn_like(std)\n",
    "    z = eps.mul(std).add_(mu)"
   ]
  },
  {
   "cell_type": "code",
   "execution_count": 32,
   "id": "bdba108e",
   "metadata": {},
   "outputs": [],
   "source": [
    "# decoder\n",
    "boxes_pred, angles_pred = model_decoder.decoder(z, objs, new_triples, attributes)"
   ]
  },
  {
   "cell_type": "code",
   "execution_count": 34,
   "id": "a0620ca8",
   "metadata": {
    "scrolled": true
   },
   "outputs": [],
   "source": [
    "# loss \n",
    "if args.KL_linear_decay:\n",
    "    KL_weight = 10 ** (t // 1e5 - 6)\n",
    "else:\n",
    "    KL_weight = args.KL_loss_weight\n",
    "total_loss, losses = calculate_model_losses(args, None, boxes, boxes_pred, angles, angles_pred, mu=mu, logvar=logvar, KL_weight=KL_weight)\n",
    "losses['total_loss'] = total_loss.item()\n",
    "if not math.isfinite(losses['total_loss']):\n",
    "    print('WARNING: Got loss = NaN, not backpropping')\n",
    "    pass #continue"
   ]
  },
  {
   "cell_type": "code",
   "execution_count": 80,
   "id": "ec7b658a",
   "metadata": {},
   "outputs": [],
   "source": [
    "loss_bbox = F.l1_loss(boxes_pred, boxes, reduction = \"none\")\n",
    "loss_bbox = torch.mean(loss_bbox, dim = 1)\n",
    "#loss_bbox_per_batch = scatter_mean(loss_bbox, obj_to_img, dim = 0)\n",
    "\n",
    "loss_angle = F.nll_loss(angles_pred, angles, reduction = \"none\")\n",
    "#loss_angle_per_batch = scatter_mean(loss_angle, obj_to_img, dim = 0)\n",
    "\n",
    "# calculate policy gradient\n",
    "J = - torch.mean(all_log_probs * (loss_bbox.detach() + 0.1 * loss_angle.detach()) + 0.1 * all_entropy)\n"
   ]
  },
  {
   "cell_type": "code",
   "execution_count": 81,
   "id": "0d04b50f",
   "metadata": {},
   "outputs": [
    {
     "data": {
      "text/plain": [
       "tensor(1.8952, device='cuda:0', grad_fn=<NegBackward>)"
      ]
     },
     "execution_count": 81,
     "metadata": {},
     "output_type": "execute_result"
    }
   ],
   "source": [
    "J"
   ]
  },
  {
   "cell_type": "code",
   "execution_count": null,
   "id": "c0b77eba",
   "metadata": {},
   "outputs": [],
   "source": [
    "J.backward()"
   ]
  }
 ],
 "metadata": {
  "kernelspec": {
   "display_name": "Environment (conda_ll)",
   "language": "python",
   "name": "conda_ll"
  },
  "language_info": {
   "codemirror_mode": {
    "name": "ipython",
    "version": 3
   },
   "file_extension": ".py",
   "mimetype": "text/x-python",
   "name": "python",
   "nbconvert_exporter": "python",
   "pygments_lexer": "ipython3",
   "version": "3.9.4"
  }
 },
 "nbformat": 4,
 "nbformat_minor": 5
}
