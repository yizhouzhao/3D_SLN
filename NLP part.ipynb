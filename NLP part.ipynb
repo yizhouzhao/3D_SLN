{
 "cells": [
  {
   "cell_type": "code",
   "execution_count": 1,
   "id": "b109137b",
   "metadata": {},
   "outputs": [],
   "source": [
    "import spacy\n",
    "\n",
    "nlp = spacy.load(\"en_core_web_sm\")\n",
    "\n",
    "# doc = nlp(\"I want to have a laptop on the table.\")\n",
    "# for token in doc:\n",
    "#     print(token.text, token.dep_, token.head.text, token.head.pos_,\n",
    "#             [child for child in token.children])"
   ]
  },
  {
   "cell_type": "code",
   "execution_count": 2,
   "id": "e59efef7",
   "metadata": {},
   "outputs": [],
   "source": [
    "from new_language_tool.tools import parse_sentence_into_spatial_relation, parse_text_into_spatial_relations"
   ]
  },
  {
   "cell_type": "code",
   "execution_count": 3,
   "id": "1d3ef69b",
   "metadata": {
    "scrolled": true
   },
   "outputs": [
    {
     "data": {
      "text/plain": [
       "(('flower', 'on', 'table'),\n",
       " ({'det': 'some'}, {'det': 'a', 'compound': 'dining'}))"
      ]
     },
     "execution_count": 3,
     "metadata": {},
     "output_type": "execute_result"
    }
   ],
   "source": [
    "parse_sentence_into_spatial_relation(\"I need some flowers on a dining table.\")"
   ]
  },
  {
   "cell_type": "code",
   "execution_count": 4,
   "id": "0386230d",
   "metadata": {},
   "outputs": [],
   "source": [
    "text = \"I need two beds, a desk, and some flowers near the window.\\\n",
    "        The two wooden beds should be close to each other.\\\n",
    "        I want to have a chair in front of the desk.\\\n",
    "        And; the desk is away from the beds.\""
   ]
  },
  {
   "cell_type": "code",
   "execution_count": 10,
   "id": "42c4ba9d",
   "metadata": {
    "scrolled": false
   },
   "outputs": [
    {
     "name": "stdout",
     "output_type": "stream",
     "text": [
      "sentence: i need two beds\n",
      "sentence: I need a desk\n",
      "sentence: I need some flowers near the window\n",
      "sentence: the two wooden beds should be close to each other\n",
      "sentence: i want to have a chair in front of the desk\n",
      "sentence: and; the desk is away from the beds\n"
     ]
    }
   ],
   "source": [
    "parsed_graph = parse_text_into_spatial_relations(text)"
   ]
  },
  {
   "cell_type": "code",
   "execution_count": 12,
   "id": "3564c424",
   "metadata": {
    "scrolled": true
   },
   "outputs": [
    {
     "data": {
      "text/plain": [
       "[(('bed', 'in', '__room__'), ({'nummod': 'two'}, {})),\n",
       " (('desk', 'in', '__room__'), ({'det': 'a'}, {})),\n",
       " (('flower', 'near', 'window'), ({'det': 'some'}, {'det': 'the'})),\n",
       " (('bed', 'close to', 'bed'),\n",
       "  ({'det': 'the', 'nummod': 'one', 'amod': 'wooden'},\n",
       "   {'det': 'the', 'nummod': 'one', 'amod': 'wooden'})),\n",
       " (('chair', 'in front of', 'desk'), ({'det': 'a'}, {'det': 'the'})),\n",
       " (('desk', 'away from', 'bed'), ({'det': 'the'}, {'det': 'the'}))]"
      ]
     },
     "execution_count": 12,
     "metadata": {},
     "output_type": "execute_result"
    }
   ],
   "source": [
    "parsed_graph"
   ]
  },
  {
   "cell_type": "code",
   "execution_count": 6,
   "id": "b89caae7",
   "metadata": {},
   "outputs": [],
   "source": [
    "text2 = \"I need a large room. A dining table should be in the center. \\\n",
    "        There are some chairs near the table.\\\n",
    "        Two floorlamps are necessary to make the room bright enough.\\\n",
    "        A garbage can is at the corner.\""
   ]
  },
  {
   "cell_type": "code",
   "execution_count": 7,
   "id": "f330f2c2",
   "metadata": {},
   "outputs": [
    {
     "name": "stdout",
     "output_type": "stream",
     "text": [
      "sentence: i need a large room\n",
      "sentence: a dining table should be in the center\n",
      "sentence: there are some chairs near the table\n",
      "sentence: two floorlamps are necessary to make the room bright enough\n",
      "sentence: a garbage can is at the corner\n"
     ]
    },
    {
     "data": {
      "text/plain": [
       "[(('room', 'in', '__room__'), ({'det': 'a', 'amod': 'large'}, {})),\n",
       " (('table', 'in', 'center'),\n",
       "  ({'det': 'a', 'compound': 'dining'}, {'det': 'the'})),\n",
       " (('chair', 'near', 'table'), ({'det': 'some'}, {'det': 'the'})),\n",
       " (('floorlamp', 'in', '__room__'), ({'nummod': 'two'}, {})),\n",
       " (('garbage', 'at', 'corner'), ({'det': 'a'}, {'det': 'the'}))]"
      ]
     },
     "execution_count": 7,
     "metadata": {},
     "output_type": "execute_result"
    }
   ],
   "source": [
    "parse_text_into_spatial_relations(text2)"
   ]
  },
  {
   "cell_type": "code",
   "execution_count": 8,
   "id": "242327b6",
   "metadata": {},
   "outputs": [],
   "source": [
    "text3 = \"I want an office, where there is a large window.\\\n",
    "         I also want to have a wooden desk, with a laptop on the desk.\\\n",
    "         An office chair is in front of the desk.\\\n",
    "         Besides; a small coffee table is for the guests.\""
   ]
  },
  {
   "cell_type": "code",
   "execution_count": 9,
   "id": "ae7326bd",
   "metadata": {
    "scrolled": true
   },
   "outputs": [
    {
     "name": "stdout",
     "output_type": "stream",
     "text": [
      "sentence: i want an office\n",
      "sentence: I need where there is a large window\n",
      "sentence: i also want to have a wooden desk\n",
      "sentence: I need with a laptop on the desk\n",
      "sentence: an office chair is in front of the desk\n",
      "sentence: besides; a small coffee table is for the guests\n"
     ]
    },
    {
     "data": {
      "text/plain": [
       "[(('office', 'in', '__room__'), ({'det': 'an'}, {})),\n",
       " (('window', 'in', '__room__'), ({'det': 'a', 'amod': 'large'}, {})),\n",
       " (('desk', 'in', '__room__'), ({'det': 'a', 'amod': 'wooden'}, {})),\n",
       " (('laptop', 'on', 'desk'), ({'det': 'a'}, {'det': 'the'})),\n",
       " (('chair', 'in front of', 'desk'),\n",
       "  ({'det': 'an', 'compound': 'office'}, {'det': 'the'})),\n",
       " (('table', 'in', '__room__'),\n",
       "  ({'det': 'a', 'amod': 'small', 'compound': 'coffee'}, {}))]"
      ]
     },
     "execution_count": 9,
     "metadata": {},
     "output_type": "execute_result"
    }
   ],
   "source": [
    "parse_text_into_spatial_relations(text3)"
   ]
  },
  {
   "cell_type": "code",
   "execution_count": null,
   "id": "204ea83d",
   "metadata": {},
   "outputs": [],
   "source": []
  }
 ],
 "metadata": {
  "kernelspec": {
   "display_name": "Environment (conda_ll)",
   "language": "python",
   "name": "conda_ll"
  },
  "language_info": {
   "codemirror_mode": {
    "name": "ipython",
    "version": 3
   },
   "file_extension": ".py",
   "mimetype": "text/x-python",
   "name": "python",
   "nbconvert_exporter": "python",
   "pygments_lexer": "ipython3",
   "version": "3.9.4"
  }
 },
 "nbformat": 4,
 "nbformat_minor": 5
}
