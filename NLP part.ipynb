{
 "cells": [
  {
   "cell_type": "code",
   "execution_count": 1,
   "id": "b109137b",
   "metadata": {},
   "outputs": [],
   "source": [
    "import spacy\n",
    "\n",
    "nlp = spacy.load(\"en_core_web_sm\")\n",
    "\n",
    "# doc = nlp(\"I want to have a laptop on the table.\")\n",
    "# for token in doc:\n",
    "#     print(token.text, token.dep_, token.head.text, token.head.pos_,\n",
    "#             [child for child in token.children])"
   ]
  },
  {
   "cell_type": "code",
   "execution_count": 2,
   "id": "e59efef7",
   "metadata": {},
   "outputs": [],
   "source": [
    "from new_language_tool.tools import parse_sentence_into_spatial_relation, parse_text_into_spatial_relations"
   ]
  },
  {
   "cell_type": "code",
   "execution_count": 3,
   "id": "1d3ef69b",
   "metadata": {
    "scrolled": true
   },
   "outputs": [
    {
     "data": {
      "text/plain": [
       "(('flower', 'in', 'room'), ({'det': 'some'}, {'det': 'the'}))"
      ]
     },
     "execution_count": 3,
     "metadata": {},
     "output_type": "execute_result"
    }
   ],
   "source": [
    "parse_sentence_into_spatial_relation(\"I need some flowers in the room.\")"
   ]
  },
  {
   "cell_type": "code",
   "execution_count": 4,
   "id": "0386230d",
   "metadata": {},
   "outputs": [],
   "source": [
    "text = \"I need two beds, a desk, and some flowers near the window. The two wooden beds should be close to each other. I want to have a chair in front of the desk.\""
   ]
  },
  {
   "cell_type": "code",
   "execution_count": 5,
   "id": "42c4ba9d",
   "metadata": {
    "scrolled": true
   },
   "outputs": [
    {
     "name": "stdout",
     "output_type": "stream",
     "text": [
      "sentence: i need two beds\n",
      "sentence: I need a desk\n",
      "sentence: I need some flowers near the window\n",
      "sentence: the two wooden beds should be close to each other\n",
      "sentence: i want to have a chair in front of the desk\n"
     ]
    },
    {
     "data": {
      "text/plain": [
       "[(('bed', 'in', '__room__'), ({'nummod': 'two'}, {})),\n",
       " (('desk', 'in', '__room__'), ({'det': 'a'}, {})),\n",
       " (('flower', 'near', 'window'), ({'det': 'some'}, {'det': 'the'})),\n",
       " (('bed', 'close to', 'bed'),\n",
       "  ({'det': 'the', 'nummod': 'one', 'amod': 'wooden'},\n",
       "   {'det': 'the', 'nummod': 'one', 'amod': 'wooden'})),\n",
       " (('chair', 'in front of', 'desk'), ({'det': 'a'}, {'det': 'the'}))]"
      ]
     },
     "execution_count": 5,
     "metadata": {},
     "output_type": "execute_result"
    }
   ],
   "source": [
    "parse_text_into_spatial_relations(text)"
   ]
  },
  {
   "cell_type": "code",
   "execution_count": 6,
   "id": "0e8677d5",
   "metadata": {},
   "outputs": [
    {
     "name": "stdout",
     "output_type": "stream",
     "text": [
      "A det chair NOUN []\n",
      "chair nsubj is AUX [A]\n",
      "is ROOT is AUX [chair, in]\n",
      "in prep is AUX [front]\n",
      "front pobj in ADP [of]\n",
      "of prep front NOUN [desk]\n",
      "the det desk NOUN []\n",
      "desk pobj of ADP [the]\n"
     ]
    }
   ],
   "source": [
    "doc = nlp(\"i want to have a chair in front of the desk\")\n",
    "doc = nlp(\"A chair is in front of the desk\")\n",
    "for token in doc:\n",
    "    print(token.text, token.dep_, token.head.text, token.head.pos_,\n",
    "            [child for child in token.children])"
   ]
  },
  {
   "cell_type": "code",
   "execution_count": 7,
   "id": "4eedae64",
   "metadata": {},
   "outputs": [
    {
     "data": {
      "text/plain": [
       "(('chair', 'in front of', 'desk'), ({'det': 'a'}, {'det': 'the'}))"
      ]
     },
     "execution_count": 7,
     "metadata": {},
     "output_type": "execute_result"
    }
   ],
   "source": [
    "parse_sentence_into_spatial_relation(\"i want to have a chair in front of the desk\")"
   ]
  },
  {
   "cell_type": "code",
   "execution_count": 8,
   "id": "62e4ec07",
   "metadata": {},
   "outputs": [
    {
     "name": "stdout",
     "output_type": "stream",
     "text": [
      "the det beds NOUN []\n",
      "two nummod beds NOUN []\n",
      "wooden amod beds NOUN []\n",
      "beds nsubj be VERB [the, two, wooden]\n",
      "should aux be VERB []\n",
      "be ROOT be VERB [beds, should, close]\n",
      "close acomp be VERB [to]\n",
      "to prep close ADJ [other]\n",
      "each det other ADJ []\n",
      "other pobj to ADP [each]\n"
     ]
    }
   ],
   "source": [
    "doc = nlp(\"the two wooden beds should be close to each other\")\n",
    "#doc = nlp(\"A chair is in front of the desk\")\n",
    "for token in doc:\n",
    "    print(token.text, token.dep_, token.head.text, token.head.pos_,\n",
    "            [child for child in token.children])"
   ]
  },
  {
   "cell_type": "code",
   "execution_count": null,
   "id": "4ddefbf0",
   "metadata": {},
   "outputs": [],
   "source": []
  }
 ],
 "metadata": {
  "kernelspec": {
   "display_name": "Environment (conda_ll)",
   "language": "python",
   "name": "conda_ll"
  },
  "language_info": {
   "codemirror_mode": {
    "name": "ipython",
    "version": 3
   },
   "file_extension": ".py",
   "mimetype": "text/x-python",
   "name": "python",
   "nbconvert_exporter": "python",
   "pygments_lexer": "ipython3",
   "version": "3.9.4"
  }
 },
 "nbformat": 4,
 "nbformat_minor": 5
}
