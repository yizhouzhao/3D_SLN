{
 "cells": [
  {
   "cell_type": "code",
   "execution_count": 1,
   "metadata": {},
   "outputs": [],
   "source": [
    "from options.options import Options\n",
    "import os\n",
    "import torch\n",
    "from build_dataset_model import build_loaders, build_model\n",
    "from utils import get_model_attr, calculate_model_losses, tensor_aug\n",
    "from collections import defaultdict\n",
    "import math\n",
    "\n",
    "from torch.utils.tensorboard import SummaryWriter\n",
    "from tqdm.auto import tqdm\n",
    "import numpy as np\n",
    "\n",
    "from new.CustomVAE import *\n",
    "from utils import calculate_model_losses"
   ]
  },
  {
   "cell_type": "code",
   "execution_count": 2,
   "metadata": {
    "scrolled": true
   },
   "outputs": [
    {
     "name": "stdout",
     "output_type": "stream",
     "text": [
      "| options\n",
      "dataset: suncg\n",
      "suncg_train_dir: metadata/data_rot_train.json\n",
      "suncg_val_dir: metadata/data_rot_val.json\n",
      "suncg_data_dir: /home/yizhou/Research/SUNCG/suncg_data\n",
      "loader_num_workers: 8\n",
      "embedding_dim: 64\n",
      "gconv_mode: feedforward\n",
      "gconv_dim: 128\n",
      "gconv_hidden_dim: 512\n",
      "gconv_num_layers: 5\n",
      "mlp_normalization: batch\n",
      "vec_noise_dim: 0\n",
      "layout_noise_dim: 32\n",
      "batch_size: 16\n",
      "num_iterations: 20000\n",
      "eval_mode_after: -1\n",
      "learning_rate: 0.0001\n",
      "print_every: 100\n",
      "checkpoint_every: 1000\n",
      "snapshot_every: 10000\n",
      "output_dir: ./checkpoints\n",
      "checkpoint_name: latest_checkpoint\n",
      "timing: False\n",
      "multigpu: False\n",
      "restore_from_checkpoint: False\n",
      "checkpoint_start_from: None\n",
      "test_dir: ./layouts_out\n",
      "gpu_id: 0\n",
      "KL_loss_weight: 0.1\n",
      "use_AE: False\n",
      "decoder_cat: True\n",
      "train_3d: True\n",
      "KL_linear_decay: False\n",
      "use_attr_30: True\n",
      "manual_seed: 42\n",
      "batch_gen: False\n",
      "measure_acc_l1_std: False\n",
      "heat_map: False\n",
      "draw_2d: False\n",
      "draw_3d: False\n",
      "fine_tune: False\n",
      "gan_shade: False\n",
      "blender_path: /home/yizhou/blender-2.92.0-linux64/blender\n",
      "\n",
      "Starting to read the json file for SUNCG\n",
      "loading relation score matrix from:  new/relation_graph_v1.p\n",
      "Training dataset has 53860 scenes and 708041 objects\n",
      "(13.15 objects per image)\n",
      "Starting to read the json file for SUNCG\n",
      "loading relation score matrix from:  new/relation_graph_v1.p\n"
     ]
    }
   ],
   "source": [
    "args = Options().parse()\n",
    "if (args.output_dir is not None) and (not os.path.isdir(args.output_dir)):\n",
    "    os.mkdir(args.output_dir)\n",
    "if (args.test_dir is not None) and (not os.path.isdir(args.test_dir)):\n",
    "    os.mkdir(args.test_dir)\n",
    "\n",
    "# no KL divergence loss\n",
    "args.use_AE = True\n",
    "\n",
    "# tensorboard\n",
    "# writer = SummaryWriter()\n",
    "\n",
    "# load data\n",
    "vocab, train_loader, val_loader = build_loaders(args)\n",
    "\n",
    "dt = train_loader.dataset"
   ]
  },
  {
   "cell_type": "code",
   "execution_count": 3,
   "metadata": {},
   "outputs": [],
   "source": [
    "args.use_AE = False"
   ]
  },
  {
   "cell_type": "code",
   "execution_count": 4,
   "metadata": {
    "scrolled": false
   },
   "outputs": [
    {
     "data": {
      "application/vnd.jupyter.widget-view+json": {
       "model_id": "7a33a008900943c0bce2152ebe3a6c99",
       "version_major": 2,
       "version_minor": 0
      },
      "text/plain": [
       "  0%|          | 0/3367 [00:00<?, ?it/s]"
      ]
     },
     "metadata": {},
     "output_type": "display_data"
    }
   ],
   "source": [
    "for batch in tqdm(train_loader):\n",
    "    #t += 1\n",
    "    ids, objs, boxes, triples, angles, attributes, obj_to_img, triple_to_img = tensor_aug(batch)\n",
    "    z = torch.randn(objs.size(0), 64).to(objs.device)\n",
    "    break"
   ]
  },
  {
   "cell_type": "code",
   "execution_count": 5,
   "metadata": {
    "scrolled": true
   },
   "outputs": [
    {
     "data": {
      "text/plain": [
       "torch.Size([226])"
      ]
     },
     "execution_count": 5,
     "metadata": {},
     "output_type": "execute_result"
    }
   ],
   "source": [
    "obj_to_img.shape"
   ]
  },
  {
   "cell_type": "code",
   "execution_count": 6,
   "metadata": {},
   "outputs": [],
   "source": [
    "from new.CustomVAE import TransformerEncoder"
   ]
  },
  {
   "cell_type": "code",
   "execution_count": 8,
   "metadata": {},
   "outputs": [],
   "source": [
    "kwargs = {\n",
    "        'vocab': dt.vocab,\n",
    "        'batch_size': args.batch_size,\n",
    "        'train_3d': args.train_3d,\n",
    "        'decoder_cat': args.decoder_cat,\n",
    "        'embedding_dim': 84,\n",
    "        'gconv_mode': args.gconv_mode,\n",
    "        'gconv_num_layers': args.gconv_num_layers,\n",
    "        'mlp_normalization': args.mlp_normalization,\n",
    "        'vec_noise_dim': args.vec_noise_dim,\n",
    "        'layout_noise_dim': args.layout_noise_dim,\n",
    "        'use_AE': args.use_AE\n",
    "    }"
   ]
  },
  {
   "cell_type": "code",
   "execution_count": 9,
   "metadata": {
    "scrolled": true
   },
   "outputs": [],
   "source": [
    "model = TransformerEncoder(**kwargs)"
   ]
  },
  {
   "cell_type": "code",
   "execution_count": 10,
   "metadata": {},
   "outputs": [],
   "source": [
    "model = model.cuda()"
   ]
  },
  {
   "cell_type": "code",
   "execution_count": 11,
   "metadata": {},
   "outputs": [],
   "source": [
    "obj_vecs = model.obj_embeddings_ec(objs)\n",
    "if model.use_attr:\n",
    "    attr_vecs = model.attr_embedding_ec(attributes)\n",
    "    obj_vecs = torch.cat([obj_vecs, attr_vecs], dim=1)\n",
    "angle_vecs = model.angle_embeddings(angles)\n",
    "boxes_vecs = model.box_embeddings(boxes)"
   ]
  },
  {
   "cell_type": "code",
   "execution_count": 12,
   "metadata": {},
   "outputs": [],
   "source": [
    "obj_vecs = torch.cat([obj_vecs, boxes_vecs, angle_vecs], dim=1)"
   ]
  },
  {
   "cell_type": "code",
   "execution_count": 13,
   "metadata": {},
   "outputs": [],
   "source": [
    "obj_vecs = obj_vecs.unsqueeze(0)"
   ]
  },
  {
   "cell_type": "code",
   "execution_count": 14,
   "metadata": {
    "scrolled": true
   },
   "outputs": [
    {
     "data": {
      "text/plain": [
       "torch.Size([1, 226, 168])"
      ]
     },
     "execution_count": 14,
     "metadata": {},
     "output_type": "execute_result"
    }
   ],
   "source": [
    "obj_vecs.shape"
   ]
  },
  {
   "cell_type": "code",
   "execution_count": 16,
   "metadata": {},
   "outputs": [],
   "source": [
    "# attention mask\n",
    "obj_counts = [torch.sum(obj_to_img == i).item() for i in range(model.batch_size)]\n",
    "block_list = [torch.ones((obj_counts[i],obj_counts[i])) for i in range(model.batch_size)]\n",
    "attention_mask = torch.block_diag(*block_list).to(obj_vecs.device) # [BxB]"
   ]
  },
  {
   "cell_type": "code",
   "execution_count": 18,
   "metadata": {},
   "outputs": [
    {
     "data": {
      "text/plain": [
       "torch.Size([1, 1, 226, 226])"
      ]
     },
     "execution_count": 18,
     "metadata": {},
     "output_type": "execute_result"
    }
   ],
   "source": [
    "attention_mask[None,None,:,:].shape"
   ]
  },
  {
   "cell_type": "code",
   "execution_count": 20,
   "metadata": {},
   "outputs": [
    {
     "name": "stdout",
     "output_type": "stream",
     "text": [
      "self attention torch.Size([1, 12, 226, 226]) torch.Size([1, 1, 226, 226]) \n",
      " tensor([[[[1., 1., 1.,  ..., 0., 0., 0.],\n",
      "          [1., 1., 1.,  ..., 0., 0., 0.],\n",
      "          [1., 1., 1.,  ..., 0., 0., 0.],\n",
      "          ...,\n",
      "          [0., 0., 0.,  ..., 1., 1., 1.],\n",
      "          [0., 0., 0.,  ..., 1., 1., 1.],\n",
      "          [0., 0., 0.,  ..., 1., 1., 1.]]]], device='cuda:0')\n",
      "self attention torch.Size([1, 12, 226, 226]) torch.Size([1, 1, 226, 226]) \n",
      " tensor([[[[1., 1., 1.,  ..., 0., 0., 0.],\n",
      "          [1., 1., 1.,  ..., 0., 0., 0.],\n",
      "          [1., 1., 1.,  ..., 0., 0., 0.],\n",
      "          ...,\n",
      "          [0., 0., 0.,  ..., 1., 1., 1.],\n",
      "          [0., 0., 0.,  ..., 1., 1., 1.],\n",
      "          [0., 0., 0.,  ..., 1., 1., 1.]]]], device='cuda:0')\n",
      "self attention torch.Size([1, 12, 226, 226]) torch.Size([1, 1, 226, 226]) \n",
      " tensor([[[[1., 1., 1.,  ..., 0., 0., 0.],\n",
      "          [1., 1., 1.,  ..., 0., 0., 0.],\n",
      "          [1., 1., 1.,  ..., 0., 0., 0.],\n",
      "          ...,\n",
      "          [0., 0., 0.,  ..., 1., 1., 1.],\n",
      "          [0., 0., 0.,  ..., 1., 1., 1.],\n",
      "          [0., 0., 0.,  ..., 1., 1., 1.]]]], device='cuda:0')\n",
      "self attention torch.Size([1, 12, 226, 226]) torch.Size([1, 1, 226, 226]) \n",
      " tensor([[[[1., 1., 1.,  ..., 0., 0., 0.],\n",
      "          [1., 1., 1.,  ..., 0., 0., 0.],\n",
      "          [1., 1., 1.,  ..., 0., 0., 0.],\n",
      "          ...,\n",
      "          [0., 0., 0.,  ..., 1., 1., 1.],\n",
      "          [0., 0., 0.,  ..., 1., 1., 1.],\n",
      "          [0., 0., 0.,  ..., 1., 1., 1.]]]], device='cuda:0')\n",
      "self attention torch.Size([1, 12, 226, 226]) torch.Size([1, 1, 226, 226]) \n",
      " tensor([[[[1., 1., 1.,  ..., 0., 0., 0.],\n",
      "          [1., 1., 1.,  ..., 0., 0., 0.],\n",
      "          [1., 1., 1.,  ..., 0., 0., 0.],\n",
      "          ...,\n",
      "          [0., 0., 0.,  ..., 1., 1., 1.],\n",
      "          [0., 0., 0.,  ..., 1., 1., 1.],\n",
      "          [0., 0., 0.,  ..., 1., 1., 1.]]]], device='cuda:0')\n",
      "self attention torch.Size([1, 12, 226, 226]) torch.Size([1, 1, 226, 226]) \n",
      " tensor([[[[1., 1., 1.,  ..., 0., 0., 0.],\n",
      "          [1., 1., 1.,  ..., 0., 0., 0.],\n",
      "          [1., 1., 1.,  ..., 0., 0., 0.],\n",
      "          ...,\n",
      "          [0., 0., 0.,  ..., 1., 1., 1.],\n",
      "          [0., 0., 0.,  ..., 1., 1., 1.],\n",
      "          [0., 0., 0.,  ..., 1., 1., 1.]]]], device='cuda:0')\n",
      "self attention torch.Size([1, 12, 226, 226]) torch.Size([1, 1, 226, 226]) \n",
      " tensor([[[[1., 1., 1.,  ..., 0., 0., 0.],\n",
      "          [1., 1., 1.,  ..., 0., 0., 0.],\n",
      "          [1., 1., 1.,  ..., 0., 0., 0.],\n",
      "          ...,\n",
      "          [0., 0., 0.,  ..., 1., 1., 1.],\n",
      "          [0., 0., 0.,  ..., 1., 1., 1.],\n",
      "          [0., 0., 0.,  ..., 1., 1., 1.]]]], device='cuda:0')\n",
      "self attention torch.Size([1, 12, 226, 226]) torch.Size([1, 1, 226, 226]) \n",
      " tensor([[[[1., 1., 1.,  ..., 0., 0., 0.],\n",
      "          [1., 1., 1.,  ..., 0., 0., 0.],\n",
      "          [1., 1., 1.,  ..., 0., 0., 0.],\n",
      "          ...,\n",
      "          [0., 0., 0.,  ..., 1., 1., 1.],\n",
      "          [0., 0., 0.,  ..., 1., 1., 1.],\n",
      "          [0., 0., 0.,  ..., 1., 1., 1.]]]], device='cuda:0')\n",
      "self attention torch.Size([1, 12, 226, 226]) torch.Size([1, 1, 226, 226]) \n",
      " tensor([[[[1., 1., 1.,  ..., 0., 0., 0.],\n",
      "          [1., 1., 1.,  ..., 0., 0., 0.],\n",
      "          [1., 1., 1.,  ..., 0., 0., 0.],\n",
      "          ...,\n",
      "          [0., 0., 0.,  ..., 1., 1., 1.],\n",
      "          [0., 0., 0.,  ..., 1., 1., 1.],\n",
      "          [0., 0., 0.,  ..., 1., 1., 1.]]]], device='cuda:0')\n",
      "self attention torch.Size([1, 12, 226, 226]) torch.Size([1, 1, 226, 226]) \n",
      " tensor([[[[1., 1., 1.,  ..., 0., 0., 0.],\n",
      "          [1., 1., 1.,  ..., 0., 0., 0.],\n",
      "          [1., 1., 1.,  ..., 0., 0., 0.],\n",
      "          ...,\n",
      "          [0., 0., 0.,  ..., 1., 1., 1.],\n",
      "          [0., 0., 0.,  ..., 1., 1., 1.],\n",
      "          [0., 0., 0.,  ..., 1., 1., 1.]]]], device='cuda:0')\n",
      "self attention torch.Size([1, 12, 226, 226]) torch.Size([1, 1, 226, 226]) \n",
      " tensor([[[[1., 1., 1.,  ..., 0., 0., 0.],\n",
      "          [1., 1., 1.,  ..., 0., 0., 0.],\n",
      "          [1., 1., 1.,  ..., 0., 0., 0.],\n",
      "          ...,\n",
      "          [0., 0., 0.,  ..., 1., 1., 1.],\n",
      "          [0., 0., 0.,  ..., 1., 1., 1.],\n",
      "          [0., 0., 0.,  ..., 1., 1., 1.]]]], device='cuda:0')\n",
      "self attention torch.Size([1, 12, 226, 226]) torch.Size([1, 1, 226, 226]) \n",
      " tensor([[[[1., 1., 1.,  ..., 0., 0., 0.],\n",
      "          [1., 1., 1.,  ..., 0., 0., 0.],\n",
      "          [1., 1., 1.,  ..., 0., 0., 0.],\n",
      "          ...,\n",
      "          [0., 0., 0.,  ..., 1., 1., 1.],\n",
      "          [0., 0., 0.,  ..., 1., 1., 1.],\n",
      "          [0., 0., 0.,  ..., 1., 1., 1.]]]], device='cuda:0')\n"
     ]
    }
   ],
   "source": [
    "# the attention mask is expand as [1 x 1 x B x B]\n",
    "bert_outputs = model.bert_encoder(obj_vecs, attention_mask=attention_mask[None,None,:,:]) # [1 x B x D]"
   ]
  },
  {
   "cell_type": "code",
   "execution_count": 24,
   "metadata": {
    "scrolled": true
   },
   "outputs": [],
   "source": [
    "bert_outputs = bert_outputs[0]"
   ]
  },
  {
   "cell_type": "code",
   "execution_count": 26,
   "metadata": {},
   "outputs": [],
   "source": [
    "subject_linear_output = model.subject_linear(bert_outputs) # [1 x B x D']\n",
    "object_linear_output = model.object_linear(bert_outputs) # [1 x B x D']"
   ]
  },
  {
   "cell_type": "code",
   "execution_count": 27,
   "metadata": {},
   "outputs": [
    {
     "data": {
      "text/plain": [
       "torch.Size([1, 226, 84])"
      ]
     },
     "execution_count": 27,
     "metadata": {},
     "output_type": "execute_result"
    }
   ],
   "source": [
    "subject_linear_output.shape"
   ]
  },
  {
   "cell_type": "code",
   "execution_count": 28,
   "metadata": {},
   "outputs": [],
   "source": [
    "subject_linear_output = subject_linear_output.squeeze(0)\n",
    "object_linear_output = object_linear_output.squeeze(0)\n"
   ]
  },
  {
   "cell_type": "code",
   "execution_count": 29,
   "metadata": {},
   "outputs": [
    {
     "data": {
      "text/plain": [
       "torch.Size([226, 84])"
      ]
     },
     "execution_count": 29,
     "metadata": {},
     "output_type": "execute_result"
    }
   ],
   "source": [
    "subject_linear_output.shape"
   ]
  },
  {
   "cell_type": "code",
   "execution_count": 31,
   "metadata": {},
   "outputs": [],
   "source": [
    "score_matrix = torch.matmul(subject_linear_output, object_linear_output.transpose(0, 1)) * attention_mask"
   ]
  },
  {
   "cell_type": "code",
   "execution_count": 32,
   "metadata": {},
   "outputs": [
    {
     "data": {
      "text/plain": [
       "torch.Size([226, 226])"
      ]
     },
     "execution_count": 32,
     "metadata": {},
     "output_type": "execute_result"
    }
   ],
   "source": [
    "score_matrix.shape"
   ]
  },
  {
   "cell_type": "code",
   "execution_count": 35,
   "metadata": {},
   "outputs": [
    {
     "data": {
      "text/plain": [
       "tensor([[2.0817, 2.0977, 2.4928, 3.0574, 2.9056, 1.9862, 2.0171, 2.0443, 1.8758,\n",
       "         2.1376],\n",
       "        [2.3692, 2.5199, 2.6113, 2.8264, 2.3392, 2.6950, 2.3713, 2.1056, 1.6135,\n",
       "         2.4800],\n",
       "        [3.6730, 4.0350, 4.4525, 5.4143, 3.7011, 5.1430, 4.0372, 3.5844, 2.4112,\n",
       "         4.8002],\n",
       "        [2.6439, 3.2576, 2.5389, 3.4189, 2.2304, 3.3003, 3.1469, 1.8072, 1.6662,\n",
       "         2.9595],\n",
       "        [2.6145, 2.5038, 3.0985, 3.3311, 2.6613, 2.1068, 3.0979, 2.7883, 2.3179,\n",
       "         2.7465],\n",
       "        [3.0530, 2.9330, 4.1122, 4.1907, 3.0697, 2.9409, 2.8209, 3.2432, 2.3394,\n",
       "         2.9094],\n",
       "        [4.2413, 4.8809, 3.8992, 5.9086, 4.1115, 4.5958, 3.1125, 3.3925, 2.6061,\n",
       "         4.5617],\n",
       "        [3.0253, 2.8248, 3.4274, 4.0565, 2.7640, 2.8270, 2.9669, 2.7714, 2.1909,\n",
       "         3.1671],\n",
       "        [4.8614, 5.6234, 4.8591, 6.8841, 4.0719, 4.5254, 4.1504, 3.1802, 3.6211,\n",
       "         4.2249],\n",
       "        [3.4033, 3.6181, 3.4449, 3.4908, 3.1506, 2.8512, 3.6625, 3.5046, 2.9415,\n",
       "         2.7295]], device='cuda:0', grad_fn=<SliceBackward>)"
      ]
     },
     "execution_count": 35,
     "metadata": {},
     "output_type": "execute_result"
    }
   ],
   "source": [
    "score_matrix[0:10,0:10]"
   ]
  },
  {
   "cell_type": "code",
   "execution_count": null,
   "metadata": {},
   "outputs": [],
   "source": [
    " model.use_attr"
   ]
  },
  {
   "cell_type": "code",
   "execution_count": null,
   "metadata": {
    "scrolled": true
   },
   "outputs": [],
   "source": [
    "from transformers import BertTokenizer, BertModel, BertConfig\n",
    "import torch\n",
    "tokenizer = BertTokenizer.from_pretrained('bert-base-uncased')\n",
    "model = BertModel(BertConfig())\n"
   ]
  },
  {
   "cell_type": "code",
   "execution_count": null,
   "metadata": {},
   "outputs": [],
   "source": [
    "inputs"
   ]
  },
  {
   "cell_type": "code",
   "execution_count": null,
   "metadata": {},
   "outputs": [],
   "source": [
    "inputs = tokenizer([\"Hello, my dog is cute\",\"what is it\"], return_tensors=\"pt\",padding=True)\n",
    "outputs = model(**inputs)\n",
    "last_hidden_states = outputs.last_hidden_state"
   ]
  },
  {
   "cell_type": "code",
   "execution_count": null,
   "metadata": {
    "scrolled": true
   },
   "outputs": [],
   "source": [
    "attr_vecs.shape"
   ]
  },
  {
   "cell_type": "code",
   "execution_count": null,
   "metadata": {},
   "outputs": [],
   "source": [
    "inputs"
   ]
  },
  {
   "cell_type": "code",
   "execution_count": null,
   "metadata": {},
   "outputs": [],
   "source": [
    "inputs = tokenizer([\"Hello, my dog is cute\",\"what is it\"], return_tensors=\"pt\",padding=True)"
   ]
  },
  {
   "cell_type": "code",
   "execution_count": null,
   "metadata": {},
   "outputs": [],
   "source": [
    "inputs"
   ]
  },
  {
   "cell_type": "code",
   "execution_count": null,
   "metadata": {},
   "outputs": [],
   "source": []
  }
 ],
 "metadata": {
  "kernelspec": {
   "display_name": "Environment (conda_ll)",
   "language": "python",
   "name": "conda_ll"
  },
  "language_info": {
   "codemirror_mode": {
    "name": "ipython",
    "version": 3
   },
   "file_extension": ".py",
   "mimetype": "text/x-python",
   "name": "python",
   "nbconvert_exporter": "python",
   "pygments_lexer": "ipython3",
   "version": "3.9.4"
  }
 },
 "nbformat": 4,
 "nbformat_minor": 4
}
