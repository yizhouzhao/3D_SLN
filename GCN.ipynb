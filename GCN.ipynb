{
 "cells": [
  {
   "cell_type": "code",
   "execution_count": 1,
   "metadata": {},
   "outputs": [],
   "source": [
    "from options.options import Options\n",
    "import os\n",
    "import torch\n",
    "from build_dataset_model import build_loaders, build_model\n",
    "from utils import get_model_attr, calculate_model_losses, tensor_aug\n",
    "from collections import defaultdict\n",
    "import math\n",
    "\n",
    "from torch.utils.tensorboard import SummaryWriter\n",
    "from tqdm.auto import tqdm\n",
    "import numpy as np\n",
    "\n",
    "from new.CustomVAE import *\n",
    "from utils import calculate_model_losses"
   ]
  },
  {
   "cell_type": "code",
   "execution_count": 2,
   "metadata": {
    "scrolled": true
   },
   "outputs": [
    {
     "name": "stdout",
     "output_type": "stream",
     "text": [
      "| options\n",
      "dataset: suncg\n",
      "suncg_train_dir: metadata/data_rot_train.json\n",
      "suncg_val_dir: metadata/data_rot_val.json\n",
      "suncg_data_dir: /home/yizhou/Research/SUNCG/suncg_data\n",
      "loader_num_workers: 1\n",
      "embedding_dim: 64\n",
      "gconv_mode: feedforward\n",
      "gconv_dim: 128\n",
      "gconv_hidden_dim: 512\n",
      "gconv_num_layers: 5\n",
      "mlp_normalization: batch\n",
      "vec_noise_dim: 0\n",
      "layout_noise_dim: 32\n",
      "batch_size: 16\n",
      "num_iterations: 20000\n",
      "eval_mode_after: -1\n",
      "learning_rate: 0.0001\n",
      "print_every: 100\n",
      "checkpoint_every: 1000\n",
      "snapshot_every: 10000\n",
      "output_dir: ./checkpoints\n",
      "checkpoint_name: latest_checkpoint\n",
      "timing: False\n",
      "multigpu: False\n",
      "restore_from_checkpoint: False\n",
      "checkpoint_start_from: None\n",
      "test_dir: ./layouts_out\n",
      "gpu_id: 0\n",
      "KL_loss_weight: 0.1\n",
      "use_AE: False\n",
      "decoder_cat: True\n",
      "train_3d: True\n",
      "KL_linear_decay: False\n",
      "use_attr_30: True\n",
      "manual_seed: 42\n",
      "batch_gen: False\n",
      "measure_acc_l1_std: False\n",
      "heat_map: False\n",
      "draw_2d: False\n",
      "draw_3d: False\n",
      "fine_tune: False\n",
      "gan_shade: False\n",
      "blender_path: /home/yizhou/blender-2.92.0-linux64/blender\n",
      "\n",
      "Starting to read the json file for SUNCG\n",
      "loading relation score matrix from:  new/relation_graph_v1.p\n",
      "Training dataset has 53860 scenes and 708041 objects\n",
      "(13.15 objects per image)\n",
      "Starting to read the json file for SUNCG\n",
      "loading relation score matrix from:  new/relation_graph_v1.p\n"
     ]
    }
   ],
   "source": [
    "args = Options().parse()\n",
    "if (args.output_dir is not None) and (not os.path.isdir(args.output_dir)):\n",
    "    os.mkdir(args.output_dir)\n",
    "if (args.test_dir is not None) and (not os.path.isdir(args.test_dir)):\n",
    "    os.mkdir(args.test_dir)\n",
    "\n",
    "# no KL divergence loss\n",
    "args.use_AE = True\n",
    "\n",
    "# tensorboard\n",
    "# writer = SummaryWriter()\n",
    "\n",
    "# load data\n",
    "vocab, train_loader, val_loader = build_loaders(args)\n",
    "\n",
    "dt = train_loader.dataset"
   ]
  },
  {
   "cell_type": "code",
   "execution_count": 3,
   "metadata": {},
   "outputs": [],
   "source": [
    "args.use_AE = False"
   ]
  },
  {
   "cell_type": "code",
   "execution_count": 4,
   "metadata": {
    "scrolled": true
   },
   "outputs": [
    {
     "name": "stderr",
     "output_type": "stream",
     "text": [
      "/home/yizhou/Research/3D_SLN/data/suncg_dataset.py:185: UserWarning: This overload of nonzero is deprecated:\n",
      "\tnonzero()\n",
      "Consider using one of the following signatures instead:\n",
      "\tnonzero(*, bool as_tuple) (Triggered internally at  /opt/conda/conda-bld/pytorch_1607370172916/work/torch/csrc/utils/python_arg_parser.cpp:882.)\n",
      "  real_objs = (objs != __room__).nonzero().squeeze(1)\n"
     ]
    },
    {
     "data": {
      "application/vnd.jupyter.widget-view+json": {
       "model_id": "98f7f65a3a0a40f898da193fa863adf5",
       "version_major": 2,
       "version_minor": 0
      },
      "text/plain": [
       "HBox(children=(FloatProgress(value=0.0, max=3367.0), HTML(value='')))"
      ]
     },
     "metadata": {},
     "output_type": "display_data"
    },
    {
     "name": "stderr",
     "output_type": "stream",
     "text": [
      "/home/yizhou/Research/3D_SLN/data/suncg_dataset.py:185: UserWarning: This overload of nonzero is deprecated:\n",
      "\tnonzero()\n",
      "Consider using one of the following signatures instead:\n",
      "\tnonzero(*, bool as_tuple) (Triggered internally at  /opt/conda/conda-bld/pytorch_1607370172916/work/torch/csrc/utils/python_arg_parser.cpp:882.)\n",
      "  real_objs = (objs != __room__).nonzero().squeeze(1)\n"
     ]
    },
    {
     "name": "stdout",
     "output_type": "stream",
     "text": [
      "\n"
     ]
    }
   ],
   "source": [
    "for batch in tqdm(train_loader):\n",
    "    #t += 1\n",
    "    ids, objs, boxes, triples, angles, attributes, obj_to_img, triple_to_img = tensor_aug(batch)\n",
    "    z = torch.randn(objs.size(0), 64).to(objs.device)\n",
    "    break"
   ]
  },
  {
   "cell_type": "code",
   "execution_count": 5,
   "metadata": {},
   "outputs": [],
   "source": [
    "from torch_geometric.nn import RGCNConv\n",
    "from torch_scatter import scatter_mean"
   ]
  },
  {
   "cell_type": "code",
   "execution_count": 6,
   "metadata": {},
   "outputs": [],
   "source": [
    "kwargs = {\n",
    "        'vocab': dt.vocab,\n",
    "        'batch_size': args.batch_size,\n",
    "        'train_3d': args.train_3d,\n",
    "        'decoder_cat': args.decoder_cat,\n",
    "        'embedding_dim': args.embedding_dim,\n",
    "        'gconv_mode': args.gconv_mode,\n",
    "        'gconv_num_layers': args.gconv_num_layers,\n",
    "        'mlp_normalization': args.mlp_normalization,\n",
    "        'vec_noise_dim': args.vec_noise_dim,\n",
    "        'layout_noise_dim': args.layout_noise_dim,\n",
    "        'use_AE': args.use_AE\n",
    "    }"
   ]
  },
  {
   "cell_type": "code",
   "execution_count": 7,
   "metadata": {},
   "outputs": [],
   "source": [
    "model = RGCNDecoder(**kwargs)"
   ]
  },
  {
   "cell_type": "code",
   "execution_count": 8,
   "metadata": {},
   "outputs": [],
   "source": [
    "model = model.cuda()"
   ]
  },
  {
   "cell_type": "code",
   "execution_count": 9,
   "metadata": {},
   "outputs": [
    {
     "data": {
      "text/plain": [
       "torch.Size([226, 64])"
      ]
     },
     "execution_count": 9,
     "metadata": {},
     "output_type": "execute_result"
    }
   ],
   "source": [
    "z.shape"
   ]
  },
  {
   "cell_type": "code",
   "execution_count": 15,
   "metadata": {
    "scrolled": true
   },
   "outputs": [
    {
     "name": "stdout",
     "output_type": "stream",
     "text": [
      "0 obj_vecs torch.Size([226, 128])\n",
      "edges torch.Size([2, 445])\n",
      "1 obj_vecs torch.Size([226, 128])\n",
      "edges torch.Size([2, 445])\n",
      "2 obj_vecs torch.Size([226, 128])\n",
      "edges torch.Size([2, 445])\n",
      "3 obj_vecs torch.Size([226, 128])\n",
      "edges torch.Size([2, 445])\n",
      "4 obj_vecs torch.Size([226, 128])\n",
      "edges torch.Size([2, 445])\n"
     ]
    }
   ],
   "source": [
    "output = model.decoder(z, objs, triples, attributes)"
   ]
  },
  {
   "cell_type": "code",
   "execution_count": 18,
   "metadata": {},
   "outputs": [
    {
     "data": {
      "text/plain": [
       "torch.Size([226, 6])"
      ]
     },
     "execution_count": 18,
     "metadata": {},
     "output_type": "execute_result"
    }
   ],
   "source": [
    "output[0].shape"
   ]
  },
  {
   "cell_type": "code",
   "execution_count": 19,
   "metadata": {},
   "outputs": [
    {
     "data": {
      "text/plain": [
       "torch.Size([226, 24])"
      ]
     },
     "execution_count": 19,
     "metadata": {},
     "output_type": "execute_result"
    }
   ],
   "source": [
    "output[1].shape"
   ]
  },
  {
   "cell_type": "code",
   "execution_count": 11,
   "metadata": {},
   "outputs": [],
   "source": [
    "s, p, o = triples.chunk(3, dim=1)  # All have shape (T, 1)\n",
    "s, p, o = [x.squeeze(1) for x in [s, p, o]]  # Now have shape (T,)\n",
    "edges = torch.stack([s, o], dim=1)  # Shape is (T, 2)"
   ]
  },
  {
   "cell_type": "code",
   "execution_count": 12,
   "metadata": {},
   "outputs": [
    {
     "data": {
      "text/plain": [
       "torch.Size([226])"
      ]
     },
     "execution_count": 12,
     "metadata": {},
     "output_type": "execute_result"
    }
   ],
   "source": [
    "objs.shape"
   ]
  },
  {
   "cell_type": "code",
   "execution_count": 20,
   "metadata": {
    "scrolled": true
   },
   "outputs": [
    {
     "data": {
      "text/plain": [
       "torch.Size([445, 2])"
      ]
     },
     "execution_count": 20,
     "metadata": {},
     "output_type": "execute_result"
    }
   ],
   "source": [
    "edges.shape"
   ]
  },
  {
   "cell_type": "code",
   "execution_count": 32,
   "metadata": {},
   "outputs": [],
   "source": [
    "boxes_pred = output[0]"
   ]
  },
  {
   "cell_type": "code",
   "execution_count": 23,
   "metadata": {
    "scrolled": true
   },
   "outputs": [
    {
     "data": {
      "text/plain": [
       "{'object_idx_to_name': ['__room__',\n",
       "  'curtain',\n",
       "  'shower_curtain',\n",
       "  'dresser',\n",
       "  'counter',\n",
       "  'bookshelf',\n",
       "  'picture',\n",
       "  'mirror',\n",
       "  'floor_mat',\n",
       "  'chair',\n",
       "  'sink',\n",
       "  'desk',\n",
       "  'table',\n",
       "  'lamp',\n",
       "  'door',\n",
       "  'clothes',\n",
       "  'person',\n",
       "  'toilet',\n",
       "  'cabinet',\n",
       "  'floor',\n",
       "  'window',\n",
       "  'blinds',\n",
       "  'wall',\n",
       "  'pillow',\n",
       "  'whiteboard',\n",
       "  'bathtub',\n",
       "  'television',\n",
       "  'night_stand',\n",
       "  'sofa',\n",
       "  'refridgerator',\n",
       "  'bed',\n",
       "  'shelves'],\n",
       " 'object_name_to_idx': {'__room__': 0,\n",
       "  'curtain': 1,\n",
       "  'shower_curtain': 2,\n",
       "  'dresser': 3,\n",
       "  'counter': 4,\n",
       "  'bookshelf': 5,\n",
       "  'picture': 6,\n",
       "  'mirror': 7,\n",
       "  'floor_mat': 8,\n",
       "  'chair': 9,\n",
       "  'sink': 10,\n",
       "  'desk': 11,\n",
       "  'table': 12,\n",
       "  'lamp': 13,\n",
       "  'door': 14,\n",
       "  'clothes': 15,\n",
       "  'person': 16,\n",
       "  'toilet': 17,\n",
       "  'cabinet': 18,\n",
       "  'floor': 19,\n",
       "  'window': 20,\n",
       "  'blinds': 21,\n",
       "  'wall': 22,\n",
       "  'pillow': 23,\n",
       "  'whiteboard': 24,\n",
       "  'bathtub': 25,\n",
       "  'television': 26,\n",
       "  'night_stand': 27,\n",
       "  'sofa': 28,\n",
       "  'refridgerator': 29,\n",
       "  'bed': 30,\n",
       "  'shelves': 31},\n",
       " 'pred_idx_to_name': ['__in_room__',\n",
       "  'left of',\n",
       "  'right of',\n",
       "  'behind',\n",
       "  'in front of',\n",
       "  'inside',\n",
       "  'surrounding',\n",
       "  'left touching',\n",
       "  'right touching',\n",
       "  'front touching',\n",
       "  'behind touching',\n",
       "  'front left',\n",
       "  'front right',\n",
       "  'back left',\n",
       "  'back right',\n",
       "  'on'],\n",
       " 'pred_name_to_idx': {'__in_room__': 0,\n",
       "  'left of': 1,\n",
       "  'right of': 2,\n",
       "  'behind': 3,\n",
       "  'in front of': 4,\n",
       "  'inside': 5,\n",
       "  'surrounding': 6,\n",
       "  'left touching': 7,\n",
       "  'right touching': 8,\n",
       "  'front touching': 9,\n",
       "  'behind touching': 10,\n",
       "  'front left': 11,\n",
       "  'front right': 12,\n",
       "  'back left': 13,\n",
       "  'back right': 14,\n",
       "  'on': 15},\n",
       " 'attrib_idx_to_name': ['none', 'tall', 'short', 'large', 'small'],\n",
       " 'attrib_name_to_idx': {'none': 0,\n",
       "  'tall': 1,\n",
       "  'short': 2,\n",
       "  'large': 3,\n",
       "  'small': 4}}"
      ]
     },
     "execution_count": 23,
     "metadata": {},
     "output_type": "execute_result"
    }
   ],
   "source": [
    "dt.vocab"
   ]
  },
  {
   "cell_type": "code",
   "execution_count": 24,
   "metadata": {},
   "outputs": [],
   "source": [
    "s, p, o = triples.chunk(3, dim=1)  # All have shape (T, 1)\n",
    "s, p, o = [x.squeeze(1) for x in [s, p, o]]  # Now have shape (T,)\n"
   ]
  },
  {
   "cell_type": "code",
   "execution_count": 28,
   "metadata": {},
   "outputs": [],
   "source": [
    "parent_relation_type_index = 15"
   ]
  },
  {
   "cell_type": "code",
   "execution_count": 33,
   "metadata": {},
   "outputs": [],
   "source": [
    "visited_subject = []\n",
    "for i in range(len(p)):\n",
    "    if p[i] == parent_relation_type_index:\n",
    "        subject_index = s[i].item()\n",
    "        object_index = o[i].item()\n",
    "        if subject_index not in visited_subject:\n",
    "            boxes_pred[subject_index] += boxes_pred[object_index]\n",
    "            visited_subject.append(subject_index)"
   ]
  },
  {
   "cell_type": "code",
   "execution_count": 38,
   "metadata": {},
   "outputs": [
    {
     "data": {
      "text/plain": [
       "tensor([[-0.1439, -0.0662, -0.3018,  0.1239, -0.5238,  0.4261],\n",
       "        [-0.2018,  0.5236, -0.2216,  0.4327, -0.1895,  0.1938],\n",
       "        [ 0.0211,  0.2248,  0.0313, -0.1986,  0.4344,  0.1646],\n",
       "        ...,\n",
       "        [ 0.0263,  0.0718, -0.1456, -0.3007, -0.2938, -0.3638],\n",
       "        [-0.5394, -0.6079, -0.0038, -0.5237,  0.5197,  0.2469],\n",
       "        [-0.2803,  0.2048,  0.0850, -0.1053, -0.1157, -0.1020]],\n",
       "       device='cuda:0')"
      ]
     },
     "execution_count": 38,
     "metadata": {},
     "output_type": "execute_result"
    }
   ],
   "source": [
    "boxes_pred.data"
   ]
  },
  {
   "cell_type": "code",
   "execution_count": null,
   "metadata": {},
   "outputs": [],
   "source": []
  }
 ],
 "metadata": {
  "kernelspec": {
   "display_name": "Python 3",
   "language": "python",
   "name": "python3"
  },
  "language_info": {
   "codemirror_mode": {
    "name": "ipython",
    "version": 3
   },
   "file_extension": ".py",
   "mimetype": "text/x-python",
   "name": "python",
   "nbconvert_exporter": "python",
   "pygments_lexer": "ipython3",
   "version": "3.8.5"
  }
 },
 "nbformat": 4,
 "nbformat_minor": 4
}
