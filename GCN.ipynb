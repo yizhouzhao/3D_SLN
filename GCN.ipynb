{
 "cells": [
  {
   "cell_type": "code",
   "execution_count": 1,
   "metadata": {},
   "outputs": [],
   "source": [
    "import torch\n",
    "from torch_geometric.data import Data"
   ]
  },
  {
   "cell_type": "code",
   "execution_count": 2,
   "metadata": {},
   "outputs": [],
   "source": [
    "from torch import tensor"
   ]
  },
  {
   "cell_type": "code",
   "execution_count": 3,
   "metadata": {},
   "outputs": [],
   "source": [
    "a =  tensor([14, 30,  9, 26,  3, 22, 27, 26, 20, 18,  0])"
   ]
  },
  {
   "cell_type": "code",
   "execution_count": 4,
   "metadata": {},
   "outputs": [
    {
     "ename": "RuntimeError",
     "evalue": "CUDA error: the provided PTX was compiled with an unsupported toolchain.",
     "output_type": "error",
     "traceback": [
      "\u001b[0;31m---------------------------------------------------------------------------\u001b[0m",
      "\u001b[0;31mRuntimeError\u001b[0m                              Traceback (most recent call last)",
      "\u001b[0;32m<ipython-input-4-0dd71459a426>\u001b[0m in \u001b[0;36m<module>\u001b[0;34m\u001b[0m\n\u001b[0;32m----> 1\u001b[0;31m \u001b[0ma\u001b[0m \u001b[0;34m=\u001b[0m \u001b[0ma\u001b[0m\u001b[0;34m.\u001b[0m\u001b[0mto\u001b[0m\u001b[0;34m(\u001b[0m\u001b[0mtorch\u001b[0m\u001b[0;34m.\u001b[0m\u001b[0mdevice\u001b[0m\u001b[0;34m(\u001b[0m\u001b[0;34m\"cuda:0\"\u001b[0m\u001b[0;34m)\u001b[0m\u001b[0;34m)\u001b[0m\u001b[0;34m\u001b[0m\u001b[0;34m\u001b[0m\u001b[0m\n\u001b[0m",
      "\u001b[0;31mRuntimeError\u001b[0m: CUDA error: the provided PTX was compiled with an unsupported toolchain."
     ]
    }
   ],
   "source": []
  },
  {
   "cell_type": "code",
   "execution_count": 15,
   "metadata": {},
   "outputs": [],
   "source": [
    "a1 = a.unsqueeze(1)"
   ]
  },
  {
   "cell_type": "code",
   "execution_count": 17,
   "metadata": {},
   "outputs": [
    {
     "data": {
      "text/plain": [
       "tensor([[14],\n",
       "        [30],\n",
       "        [ 9],\n",
       "        [26],\n",
       "        [ 3],\n",
       "        [22],\n",
       "        [27],\n",
       "        [26],\n",
       "        [20],\n",
       "        [18],\n",
       "        [ 0]])"
      ]
     },
     "execution_count": 17,
     "metadata": {},
     "output_type": "execute_result"
    }
   ],
   "source": [
    "a1"
   ]
  },
  {
   "cell_type": "code",
   "execution_count": 26,
   "metadata": {},
   "outputs": [],
   "source": [
    "b = tensor([[ 7, 15,  6],\n",
    "         [ 0,  4,  8],\n",
    "         [ 1,  3,  4],\n",
    "         [ 2,  3,  3],\n",
    "         [ 3,  4,  5],\n",
    "         [ 3,  1,  4],\n",
    "         [ 0,  4,  5],\n",
    "         [ 9,  4,  6],\n",
    "         [ 7,  1,  4],\n",
    "         [ 8,  2,  3],\n",
    "         [ 2,  4,  9],\n",
    "         [ 0,  0, 10],\n",
    "         [ 1,  0, 10],\n",
    "         [ 2,  0, 10],\n",
    "         [ 3,  0, 10],\n",
    "         [ 4,  0, 10],\n",
    "         [ 5,  0, 10],\n",
    "         [ 6,  0, 10],\n",
    "         [ 7,  0, 10],\n",
    "         [ 8,  0, 10],\n",
    "         [ 9,  0, 10]])"
   ]
  },
  {
   "cell_type": "code",
   "execution_count": 33,
   "metadata": {},
   "outputs": [
    {
     "data": {
      "text/plain": [
       "tensor([[ 7,  6],\n",
       "        [ 0,  8],\n",
       "        [ 1,  4],\n",
       "        [ 2,  3],\n",
       "        [ 3,  5],\n",
       "        [ 3,  4],\n",
       "        [ 0,  5],\n",
       "        [ 9,  6],\n",
       "        [ 7,  4],\n",
       "        [ 8,  3],\n",
       "        [ 2,  9],\n",
       "        [ 0, 10],\n",
       "        [ 1, 10],\n",
       "        [ 2, 10],\n",
       "        [ 3, 10],\n",
       "        [ 4, 10],\n",
       "        [ 5, 10],\n",
       "        [ 6, 10],\n",
       "        [ 7, 10],\n",
       "        [ 8, 10],\n",
       "        [ 9, 10]])"
      ]
     },
     "execution_count": 33,
     "metadata": {},
     "output_type": "execute_result"
    }
   ],
   "source": [
    "b[:,[0,2]]"
   ]
  },
  {
   "cell_type": "code",
   "execution_count": 34,
   "metadata": {},
   "outputs": [
    {
     "name": "stdout",
     "output_type": "stream",
     "text": [
      "Downloading https://www.chrsmrrs.com/graphkerneldatasets/ENZYMES.zip\n",
      "Extracting /tmp/ENZYMES/ENZYMES/ENZYMES.zip\n",
      "Processing...\n",
      "Done!\n"
     ]
    }
   ],
   "source": [
    "from torch_scatter import scatter_mean\n",
    "from torch_geometric.datasets import TUDataset\n",
    "from torch_geometric.data import DataLoader\n",
    "\n",
    "dataset = TUDataset(root='/tmp/ENZYMES', name='ENZYMES', use_node_attr=True)\n",
    "loader = DataLoader(dataset, batch_size=32, shuffle=True)"
   ]
  },
  {
   "cell_type": "code",
   "execution_count": 35,
   "metadata": {},
   "outputs": [
    {
     "name": "stdout",
     "output_type": "stream",
     "text": [
      "torch.Size([1016, 21])\n",
      "torch.Size([1016])\n"
     ]
    }
   ],
   "source": [
    "for data in loader:\n",
    "    print(data.x.shape)\n",
    "    print(data.batch.shape)\n",
    "    \n",
    "    x = scatter_mean(data.x, data.batch, dim=0)\n",
    "    break"
   ]
  },
  {
   "cell_type": "code",
   "execution_count": null,
   "metadata": {},
   "outputs": [],
   "source": []
  }
 ],
 "metadata": {
  "kernelspec": {
   "display_name": "Python 3",
   "language": "python",
   "name": "python3"
  },
  "language_info": {
   "codemirror_mode": {
    "name": "ipython",
    "version": 3
   },
   "file_extension": ".py",
   "mimetype": "text/x-python",
   "name": "python",
   "nbconvert_exporter": "python",
   "pygments_lexer": "ipython3",
   "version": "3.7.10"
  }
 },
 "nbformat": 4,
 "nbformat_minor": 4
}
