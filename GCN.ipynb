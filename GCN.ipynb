{
 "cells": [
  {
   "cell_type": "code",
   "execution_count": 1,
   "metadata": {},
   "outputs": [],
   "source": [
    "%load_ext autoreload"
   ]
  },
  {
   "cell_type": "code",
   "execution_count": 2,
   "metadata": {},
   "outputs": [],
   "source": [
    "from options.options import Options\n",
    "import os\n",
    "import torch\n",
    "from build_dataset_model import build_loaders, build_model\n",
    "from utils import get_model_attr, calculate_model_losses, tensor_aug\n",
    "from collections import defaultdict\n",
    "import math\n",
    "\n",
    "from torch.utils.tensorboard import SummaryWriter\n",
    "from tqdm.auto import tqdm\n",
    "import numpy as np\n",
    "\n",
    "from new.CustomVAE import *\n",
    "from utils import calculate_model_losses"
   ]
  },
  {
   "cell_type": "code",
   "execution_count": 3,
   "metadata": {
    "scrolled": true
   },
   "outputs": [
    {
     "name": "stdout",
     "output_type": "stream",
     "text": [
      "| options\n",
      "dataset: suncg\n",
      "suncg_train_dir: metadata/data_rot_train.json\n",
      "suncg_val_dir: metadata/data_rot_val.json\n",
      "suncg_data_dir: /home/yizhou/Research/SUNCG/suncg_data\n",
      "loader_num_workers: 8\n",
      "embedding_dim: 64\n",
      "gconv_mode: feedforward\n",
      "gconv_dim: 128\n",
      "gconv_hidden_dim: 512\n",
      "gconv_num_layers: 5\n",
      "mlp_normalization: batch\n",
      "vec_noise_dim: 0\n",
      "layout_noise_dim: 32\n",
      "batch_size: 16\n",
      "num_iterations: 20000\n",
      "eval_mode_after: -1\n",
      "learning_rate: 0.0001\n",
      "print_every: 100\n",
      "checkpoint_every: 1000\n",
      "snapshot_every: 10000\n",
      "output_dir: ./checkpoints\n",
      "checkpoint_name: latest_checkpoint\n",
      "timing: False\n",
      "multigpu: False\n",
      "restore_from_checkpoint: False\n",
      "checkpoint_start_from: None\n",
      "test_dir: ./layouts_out\n",
      "gpu_id: 0\n",
      "KL_loss_weight: 0.1\n",
      "use_AE: False\n",
      "decoder_cat: True\n",
      "train_3d: True\n",
      "KL_linear_decay: False\n",
      "use_attr_30: True\n",
      "manual_seed: 42\n",
      "batch_gen: False\n",
      "measure_acc_l1_std: False\n",
      "heat_map: False\n",
      "draw_2d: False\n",
      "draw_3d: False\n",
      "fine_tune: False\n",
      "gan_shade: False\n",
      "blender_path: /home/yizhou/blender-2.92.0-linux64/blender\n",
      "\n",
      "Starting to read the json file for SUNCG\n",
      "loading relation score matrix from:  new/relation_graph_v1.p\n",
      "Training dataset has 53860 scenes and 708041 objects\n",
      "(13.15 objects per image)\n",
      "Starting to read the json file for SUNCG\n",
      "loading relation score matrix from:  new/relation_graph_v1.p\n"
     ]
    }
   ],
   "source": [
    "args = Options().parse()\n",
    "if (args.output_dir is not None) and (not os.path.isdir(args.output_dir)):\n",
    "    os.mkdir(args.output_dir)\n",
    "if (args.test_dir is not None) and (not os.path.isdir(args.test_dir)):\n",
    "    os.mkdir(args.test_dir)\n",
    "\n",
    "# no KL divergence loss\n",
    "args.use_AE = True\n",
    "\n",
    "# tensorboard\n",
    "# writer = SummaryWriter()\n",
    "\n",
    "# load data\n",
    "vocab, train_loader, val_loader = build_loaders(args)\n",
    "\n",
    "dt = train_loader.dataset"
   ]
  },
  {
   "cell_type": "code",
   "execution_count": 4,
   "metadata": {},
   "outputs": [],
   "source": [
    "args.use_AE = False"
   ]
  },
  {
   "cell_type": "code",
   "execution_count": 5,
   "metadata": {
    "scrolled": false
   },
   "outputs": [
    {
     "data": {
      "application/vnd.jupyter.widget-view+json": {
       "model_id": "c87624f1bbc64925a060115e6610a557",
       "version_major": 2,
       "version_minor": 0
      },
      "text/plain": [
       "  0%|          | 0/3367 [00:00<?, ?it/s]"
      ]
     },
     "metadata": {},
     "output_type": "display_data"
    }
   ],
   "source": [
    "for batch in tqdm(train_loader):\n",
    "    #t += 1\n",
    "    ids, objs, boxes, triples, angles, attributes, obj_to_img, triple_to_img = tensor_aug(batch)\n",
    "    z = torch.randn(objs.size(0), 64).to(objs.device)\n",
    "    break"
   ]
  },
  {
   "cell_type": "code",
   "execution_count": 6,
   "metadata": {
    "scrolled": true
   },
   "outputs": [
    {
     "data": {
      "text/plain": [
       "torch.Size([226])"
      ]
     },
     "execution_count": 6,
     "metadata": {},
     "output_type": "execute_result"
    }
   ],
   "source": [
    "obj_to_img.shape"
   ]
  },
  {
   "cell_type": "code",
   "execution_count": 7,
   "metadata": {},
   "outputs": [],
   "source": [
    "from new.CustomVAE import TransformerEncoder"
   ]
  },
  {
   "cell_type": "code",
   "execution_count": 8,
   "metadata": {},
   "outputs": [],
   "source": [
    "kwargs = {\n",
    "        'vocab': dt.vocab,\n",
    "        'batch_size': args.batch_size,\n",
    "        'train_3d': args.train_3d,\n",
    "        'decoder_cat': args.decoder_cat,\n",
    "        'embedding_dim': 84,\n",
    "        'gconv_mode': args.gconv_mode,\n",
    "        'gconv_num_layers': args.gconv_num_layers,\n",
    "        'mlp_normalization': args.mlp_normalization,\n",
    "        'vec_noise_dim': args.vec_noise_dim,\n",
    "        'layout_noise_dim': args.layout_noise_dim,\n",
    "        'use_AE': args.use_AE\n",
    "    }"
   ]
  },
  {
   "cell_type": "code",
   "execution_count": 9,
   "metadata": {
    "scrolled": true
   },
   "outputs": [],
   "source": [
    "model = TransformerEncoder(**kwargs)"
   ]
  },
  {
   "cell_type": "code",
   "execution_count": 10,
   "metadata": {},
   "outputs": [],
   "source": [
    "model = model.cuda()"
   ]
  },
  {
   "cell_type": "code",
   "execution_count": 11,
   "metadata": {},
   "outputs": [],
   "source": [
    "score_matrix = model.encoder(objs, boxes, angles, attributes, obj_to_img)"
   ]
  },
  {
   "cell_type": "code",
   "execution_count": 12,
   "metadata": {},
   "outputs": [],
   "source": [
    "all_samples, all_log_probs = model.sample(score_matrix, obj_to_img)"
   ]
  },
  {
   "cell_type": "code",
   "execution_count": 13,
   "metadata": {},
   "outputs": [],
   "source": [
    "log_prob = torch.sum(all_log_probs)"
   ]
  },
  {
   "cell_type": "code",
   "execution_count": 14,
   "metadata": {},
   "outputs": [],
   "source": [
    "log_prob.backward()"
   ]
  },
  {
   "cell_type": "code",
   "execution_count": 15,
   "metadata": {
    "scrolled": true
   },
   "outputs": [
    {
     "data": {
      "text/plain": [
       "{'object_idx_to_name': ['__room__',\n",
       "  'curtain',\n",
       "  'shower_curtain',\n",
       "  'dresser',\n",
       "  'counter',\n",
       "  'bookshelf',\n",
       "  'picture',\n",
       "  'mirror',\n",
       "  'floor_mat',\n",
       "  'chair',\n",
       "  'sink',\n",
       "  'desk',\n",
       "  'table',\n",
       "  'lamp',\n",
       "  'door',\n",
       "  'clothes',\n",
       "  'person',\n",
       "  'toilet',\n",
       "  'cabinet',\n",
       "  'floor',\n",
       "  'window',\n",
       "  'blinds',\n",
       "  'wall',\n",
       "  'pillow',\n",
       "  'whiteboard',\n",
       "  'bathtub',\n",
       "  'television',\n",
       "  'night_stand',\n",
       "  'sofa',\n",
       "  'refridgerator',\n",
       "  'bed',\n",
       "  'shelves'],\n",
       " 'object_name_to_idx': {'__room__': 0,\n",
       "  'curtain': 1,\n",
       "  'shower_curtain': 2,\n",
       "  'dresser': 3,\n",
       "  'counter': 4,\n",
       "  'bookshelf': 5,\n",
       "  'picture': 6,\n",
       "  'mirror': 7,\n",
       "  'floor_mat': 8,\n",
       "  'chair': 9,\n",
       "  'sink': 10,\n",
       "  'desk': 11,\n",
       "  'table': 12,\n",
       "  'lamp': 13,\n",
       "  'door': 14,\n",
       "  'clothes': 15,\n",
       "  'person': 16,\n",
       "  'toilet': 17,\n",
       "  'cabinet': 18,\n",
       "  'floor': 19,\n",
       "  'window': 20,\n",
       "  'blinds': 21,\n",
       "  'wall': 22,\n",
       "  'pillow': 23,\n",
       "  'whiteboard': 24,\n",
       "  'bathtub': 25,\n",
       "  'television': 26,\n",
       "  'night_stand': 27,\n",
       "  'sofa': 28,\n",
       "  'refridgerator': 29,\n",
       "  'bed': 30,\n",
       "  'shelves': 31},\n",
       " 'pred_idx_to_name': ['__in_room__',\n",
       "  'left of',\n",
       "  'right of',\n",
       "  'behind',\n",
       "  'in front of',\n",
       "  'inside',\n",
       "  'surrounding',\n",
       "  'left touching',\n",
       "  'right touching',\n",
       "  'front touching',\n",
       "  'behind touching',\n",
       "  'front left',\n",
       "  'front right',\n",
       "  'back left',\n",
       "  'back right',\n",
       "  'on'],\n",
       " 'pred_name_to_idx': {'__in_room__': 0,\n",
       "  'left of': 1,\n",
       "  'right of': 2,\n",
       "  'behind': 3,\n",
       "  'in front of': 4,\n",
       "  'inside': 5,\n",
       "  'surrounding': 6,\n",
       "  'left touching': 7,\n",
       "  'right touching': 8,\n",
       "  'front touching': 9,\n",
       "  'behind touching': 10,\n",
       "  'front left': 11,\n",
       "  'front right': 12,\n",
       "  'back left': 13,\n",
       "  'back right': 14,\n",
       "  'on': 15},\n",
       " 'attrib_idx_to_name': ['none', 'tall', 'short', 'large', 'small'],\n",
       " 'attrib_name_to_idx': {'none': 0,\n",
       "  'tall': 1,\n",
       "  'short': 2,\n",
       "  'large': 3,\n",
       "  'small': 4}}"
      ]
     },
     "execution_count": 15,
     "metadata": {},
     "output_type": "execute_result"
    }
   ],
   "source": [
    "dt.vocab"
   ]
  },
  {
   "cell_type": "code",
   "execution_count": 16,
   "metadata": {},
   "outputs": [],
   "source": [
    "from utils import *"
   ]
  },
  {
   "cell_type": "code",
   "execution_count": 17,
   "metadata": {},
   "outputs": [
    {
     "data": {
      "text/plain": [
       "torch.Size([226])"
      ]
     },
     "execution_count": 17,
     "metadata": {},
     "output_type": "execute_result"
    }
   ],
   "source": [
    "all_samples.shape"
   ]
  },
  {
   "cell_type": "code",
   "execution_count": 18,
   "metadata": {},
   "outputs": [
    {
     "data": {
      "text/plain": [
       "tensor([30, 27,  8, 27, 18, 20,  3, 18, 26,  1,  0, 30,  1, 20, 14,  0, 28, 16,\n",
       "         8, 13, 30, 13, 16, 26, 16,  9, 26,  3, 13,  0, 14, 18, 27, 20, 27, 13,\n",
       "        13, 30, 28, 18,  0,  1, 13, 20, 26, 18, 30, 13, 30, 14,  0, 11, 14, 14,\n",
       "        30, 14, 18,  0, 13, 13, 13, 18, 27, 13, 11, 30,  3,  9, 18, 20,  1, 27,\n",
       "         0, 18, 13, 20,  7,  1, 27, 11, 13, 27, 20, 30, 26, 18,  8, 20, 20,  3,\n",
       "         1, 13,  6, 13, 18,  0, 19, 26, 30,  9, 26,  9, 11,  0, 20, 18, 30, 30,\n",
       "         0,  6,  8, 14, 14, 20,  6,  1, 30,  6, 27,  0, 13,  6, 21, 11,  9, 13,\n",
       "        30, 20, 21, 27,  8, 13, 21, 18,  6, 27,  6,  0,  9,  6, 18, 27,  8,  4,\n",
       "        28,  9,  4,  4,  9,  9,  4, 26,  4,  4,  1, 20,  6,  9, 13, 12, 13, 18,\n",
       "        26, 13,  4,  6, 13, 13, 14, 18, 31, 27, 11, 18, 30,  6, 31,  0, 30, 20,\n",
       "        13, 20, 20, 13, 13, 20, 20, 11,  3, 27, 13, 20, 20, 27, 13, 11, 13, 13,\n",
       "         8,  6, 26, 20, 13,  0, 20,  3,  6, 30, 20, 18, 18, 18, 14, 26, 18, 14,\n",
       "         0, 26, 13,  9, 30, 18, 11, 14, 30,  0], device='cuda:0')"
      ]
     },
     "execution_count": 18,
     "metadata": {},
     "output_type": "execute_result"
    }
   ],
   "source": [
    "objs"
   ]
  },
  {
   "cell_type": "code",
   "execution_count": 19,
   "metadata": {},
   "outputs": [
    {
     "data": {
      "text/plain": [
       "torch.Size([226, 6])"
      ]
     },
     "execution_count": 19,
     "metadata": {},
     "output_type": "execute_result"
    }
   ],
   "source": [
    "boxes.shape"
   ]
  },
  {
   "cell_type": "code",
   "execution_count": 20,
   "metadata": {},
   "outputs": [
    {
     "data": {
      "text/plain": [
       "torch.Size([235, 3])"
      ]
     },
     "execution_count": 20,
     "metadata": {},
     "output_type": "execute_result"
    }
   ],
   "source": [
    "triples.shape"
   ]
  },
  {
   "cell_type": "code",
   "execution_count": 21,
   "metadata": {},
   "outputs": [],
   "source": [
    "from new.utils import obtain_sampled_relations"
   ]
  },
  {
   "cell_type": "code",
   "execution_count": 23,
   "metadata": {},
   "outputs": [],
   "source": [
    "boxes_numpy = boxes.cpu().data.numpy()"
   ]
  },
  {
   "cell_type": "code",
   "execution_count": 25,
   "metadata": {
    "scrolled": true
   },
   "outputs": [],
   "source": [
    "new_ts = obtain_sampled_relations(objs, all_samples, boxes_numpy, dt.vocab)"
   ]
  },
  {
   "cell_type": "code",
   "execution_count": 27,
   "metadata": {},
   "outputs": [
    {
     "data": {
      "text/plain": [
       "torch.Size([226, 3])"
      ]
     },
     "execution_count": 27,
     "metadata": {},
     "output_type": "execute_result"
    }
   ],
   "source": [
    "new_ts.shape"
   ]
  },
  {
   "cell_type": "code",
   "execution_count": null,
   "metadata": {},
   "outputs": [],
   "source": []
  }
 ],
 "metadata": {
  "kernelspec": {
   "display_name": "Environment (conda_ll)",
   "language": "python",
   "name": "conda_ll"
  },
  "language_info": {
   "codemirror_mode": {
    "name": "ipython",
    "version": 3
   },
   "file_extension": ".py",
   "mimetype": "text/x-python",
   "name": "python",
   "nbconvert_exporter": "python",
   "pygments_lexer": "ipython3",
   "version": "3.9.4"
  }
 },
 "nbformat": 4,
 "nbformat_minor": 4
}
