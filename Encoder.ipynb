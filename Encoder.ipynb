{
 "cells": [
  {
   "cell_type": "code",
   "execution_count": 1,
   "metadata": {},
   "outputs": [],
   "source": [
    "import torch\n",
    "import torch.nn as nn\n",
    "from torch.utils.data import DataLoader"
   ]
  },
  {
   "cell_type": "code",
   "execution_count": 2,
   "metadata": {},
   "outputs": [],
   "source": [
    "from transformers import BertModel, BertConfig\n",
    "from transformers.models.bert.modeling_bert import *"
   ]
  },
  {
   "cell_type": "code",
   "execution_count": 3,
   "metadata": {},
   "outputs": [],
   "source": [
    "from new.networks import *\n",
    "from new.utils import *\n",
    "from new.models import *"
   ]
  },
  {
   "cell_type": "code",
   "execution_count": 4,
   "metadata": {},
   "outputs": [],
   "source": [
    "from options.options import Options\n",
    "import os\n",
    "import torch\n",
    "from tqdm.auto import tqdm"
   ]
  },
  {
   "cell_type": "code",
   "execution_count": 5,
   "metadata": {},
   "outputs": [],
   "source": [
    "from build_dataset_model import build_suncg_dsets\n",
    "from data.suncg_dataset import SuncgDataset"
   ]
  },
  {
   "cell_type": "code",
   "execution_count": 6,
   "metadata": {},
   "outputs": [
    {
     "name": "stdout",
     "output_type": "stream",
     "text": [
      "| options\n",
      "dataset: suncg\n",
      "suncg_train_dir: metadata/data_rot_train.json\n",
      "suncg_val_dir: metadata/data_rot_val.json\n",
      "suncg_data_dir: /home/yizhou/Research/SUNCG/suncg_data\n",
      "loader_num_workers: 8\n",
      "embedding_dim: 64\n",
      "gconv_mode: feedforward\n",
      "gconv_dim: 128\n",
      "gconv_hidden_dim: 512\n",
      "gconv_num_layers: 5\n",
      "mlp_normalization: batch\n",
      "vec_noise_dim: 0\n",
      "layout_noise_dim: 32\n",
      "batch_size: 16\n",
      "num_iterations: 60000\n",
      "eval_mode_after: -1\n",
      "learning_rate: 0.0001\n",
      "print_every: 100\n",
      "checkpoint_every: 1000\n",
      "snapshot_every: 10000\n",
      "output_dir: ./checkpoints\n",
      "checkpoint_name: latest_checkpoint\n",
      "timing: False\n",
      "multigpu: False\n",
      "restore_from_checkpoint: False\n",
      "checkpoint_start_from: None\n",
      "test_dir: ./layouts_out\n",
      "gpu_id: 0\n",
      "KL_loss_weight: 0.1\n",
      "use_AE: False\n",
      "decoder_cat: True\n",
      "train_3d: True\n",
      "KL_linear_decay: False\n",
      "use_attr_30: True\n",
      "manual_seed: 42\n",
      "batch_gen: False\n",
      "measure_acc_l1_std: False\n",
      "heat_map: False\n",
      "draw_2d: False\n",
      "draw_3d: False\n",
      "fine_tune: False\n",
      "gan_shade: False\n",
      "blender_path: /home/yizhou/blender-2.92.0-linux64/blender\n",
      "\n"
     ]
    }
   ],
   "source": [
    "args = Options().parse()\n",
    "if (args.output_dir is not None) and (not os.path.isdir(args.output_dir)):\n",
    "    os.mkdir(args.output_dir)\n",
    "if (args.test_dir is not None) and (not os.path.isdir(args.test_dir)):\n",
    "    os.mkdir(args.test_dir)"
   ]
  },
  {
   "cell_type": "code",
   "execution_count": 7,
   "metadata": {},
   "outputs": [],
   "source": [
    "dset_kwargs = {\n",
    "        'data_dir': args.suncg_train_dir,\n",
    "        'train_3d': args.train_3d,\n",
    "        'use_attr_30': args.use_attr_30,\n",
    "    }"
   ]
  },
  {
   "cell_type": "code",
   "execution_count": 8,
   "metadata": {
    "scrolled": true
   },
   "outputs": [
    {
     "name": "stdout",
     "output_type": "stream",
     "text": [
      "Starting to read the json file for SUNCG\n",
      "loading relation score matrix from:  new/relation_graph_v1.p\n"
     ]
    }
   ],
   "source": [
    "train_dset = SuncgDataset(**dset_kwargs)"
   ]
  },
  {
   "cell_type": "code",
   "execution_count": 9,
   "metadata": {
    "scrolled": true
   },
   "outputs": [
    {
     "data": {
      "text/plain": [
       "{'object_idx_to_name': ['__room__',\n",
       "  'curtain',\n",
       "  'shower_curtain',\n",
       "  'dresser',\n",
       "  'counter',\n",
       "  'bookshelf',\n",
       "  'picture',\n",
       "  'mirror',\n",
       "  'floor_mat',\n",
       "  'chair',\n",
       "  'sink',\n",
       "  'desk',\n",
       "  'table',\n",
       "  'lamp',\n",
       "  'door',\n",
       "  'clothes',\n",
       "  'person',\n",
       "  'toilet',\n",
       "  'cabinet',\n",
       "  'floor',\n",
       "  'window',\n",
       "  'blinds',\n",
       "  'wall',\n",
       "  'pillow',\n",
       "  'whiteboard',\n",
       "  'bathtub',\n",
       "  'television',\n",
       "  'night_stand',\n",
       "  'sofa',\n",
       "  'refridgerator',\n",
       "  'bed',\n",
       "  'shelves'],\n",
       " 'object_name_to_idx': {'__room__': 0,\n",
       "  'curtain': 1,\n",
       "  'shower_curtain': 2,\n",
       "  'dresser': 3,\n",
       "  'counter': 4,\n",
       "  'bookshelf': 5,\n",
       "  'picture': 6,\n",
       "  'mirror': 7,\n",
       "  'floor_mat': 8,\n",
       "  'chair': 9,\n",
       "  'sink': 10,\n",
       "  'desk': 11,\n",
       "  'table': 12,\n",
       "  'lamp': 13,\n",
       "  'door': 14,\n",
       "  'clothes': 15,\n",
       "  'person': 16,\n",
       "  'toilet': 17,\n",
       "  'cabinet': 18,\n",
       "  'floor': 19,\n",
       "  'window': 20,\n",
       "  'blinds': 21,\n",
       "  'wall': 22,\n",
       "  'pillow': 23,\n",
       "  'whiteboard': 24,\n",
       "  'bathtub': 25,\n",
       "  'television': 26,\n",
       "  'night_stand': 27,\n",
       "  'sofa': 28,\n",
       "  'refridgerator': 29,\n",
       "  'bed': 30,\n",
       "  'shelves': 31},\n",
       " 'pred_idx_to_name': ['__in_room__',\n",
       "  'left of',\n",
       "  'right of',\n",
       "  'behind',\n",
       "  'in front of',\n",
       "  'inside',\n",
       "  'surrounding',\n",
       "  'left touching',\n",
       "  'right touching',\n",
       "  'front touching',\n",
       "  'behind touching',\n",
       "  'front left',\n",
       "  'front right',\n",
       "  'back left',\n",
       "  'back right',\n",
       "  'on'],\n",
       " 'pred_name_to_idx': {'__in_room__': 0,\n",
       "  'left of': 1,\n",
       "  'right of': 2,\n",
       "  'behind': 3,\n",
       "  'in front of': 4,\n",
       "  'inside': 5,\n",
       "  'surrounding': 6,\n",
       "  'left touching': 7,\n",
       "  'right touching': 8,\n",
       "  'front touching': 9,\n",
       "  'behind touching': 10,\n",
       "  'front left': 11,\n",
       "  'front right': 12,\n",
       "  'back left': 13,\n",
       "  'back right': 14,\n",
       "  'on': 15},\n",
       " 'attrib_idx_to_name': ['none', 'tall', 'short', 'large', 'small'],\n",
       " 'attrib_name_to_idx': {'none': 0,\n",
       "  'tall': 1,\n",
       "  'short': 2,\n",
       "  'large': 3,\n",
       "  'small': 4}}"
      ]
     },
     "execution_count": 9,
     "metadata": {},
     "output_type": "execute_result"
    }
   ],
   "source": [
    "train_dset.vocab"
   ]
  },
  {
   "cell_type": "code",
   "execution_count": 10,
   "metadata": {
    "scrolled": true
   },
   "outputs": [
    {
     "name": "stderr",
     "output_type": "stream",
     "text": [
      "/home/yizhou/Research/3D_SLN/data/suncg_dataset.py:185: UserWarning: This overload of nonzero is deprecated:\n",
      "\tnonzero()\n",
      "Consider using one of the following signatures instead:\n",
      "\tnonzero(*, bool as_tuple) (Triggered internally at  /opt/conda/conda-bld/pytorch_1607370172916/work/torch/csrc/utils/python_arg_parser.cpp:882.)\n",
      "  real_objs = (objs != __room__).nonzero().squeeze(1)\n"
     ]
    },
    {
     "data": {
      "text/plain": [
       "(4377,\n",
       " tensor([14, 18, 27, 26, 20,  9, 22, 26, 30,  3,  0]),\n",
       " tensor([[ 6.6050e-01,  7.2728e-03,  7.8242e-01,  9.3001e-01,  7.7818e-01,\n",
       "           1.0000e+00],\n",
       "         [-1.8332e-02,  6.7337e-01,  5.6516e-01,  1.9248e-01,  7.8162e-01,\n",
       "           5.9611e-01],\n",
       "         [ 4.6290e-02,  1.8182e-02,  3.2368e-01,  1.9460e-01,  2.1091e-01,\n",
       "           4.4950e-01],\n",
       "         [ 5.3706e-02,  2.1091e-01,  3.5881e-01,  1.7235e-01,  2.7273e-01,\n",
       "           4.1805e-01],\n",
       "         [ 7.1195e-01, -5.4443e-16,  5.0570e-01,  1.2310e+00,  5.0909e-01,\n",
       "           5.5158e-01],\n",
       "         [ 1.2971e-01,  1.8182e-02,  6.6184e-01,  4.3746e-01,  3.2920e-01,\n",
       "           8.7699e-01],\n",
       "         [ 8.4345e-01,  1.8182e-02,  4.0563e-02,  9.5468e-01,  1.0000e+00,\n",
       "           1.1921e-01],\n",
       "         [ 5.9412e-02,  6.3743e-01,  9.3840e-01,  5.4142e-01,  9.0634e-01,\n",
       "           9.5150e-01],\n",
       "         [ 2.2797e-01,  1.8182e-02, -1.0230e-01,  6.3582e-01,  2.9879e-01,\n",
       "           4.4557e-01],\n",
       "         [ 6.6919e-01,  1.8182e-02,  4.8725e-01,  1.1141e+00,  3.4545e-01,\n",
       "           5.6704e-01],\n",
       "         [ 0.0000e+00,  0.0000e+00,  0.0000e+00,  1.0000e+00,  1.0196e+00,\n",
       "           1.4144e+00]]),\n",
       " tensor([[ 3, 15,  2],\n",
       "         [ 1,  1,  0],\n",
       "         [ 8,  3,  1],\n",
       "         [ 5,  4,  2],\n",
       "         [ 3,  3,  7],\n",
       "         [ 4,  7,  9],\n",
       "         [ 5,  1,  0],\n",
       "         [ 1,  1,  6],\n",
       "         [ 7,  1,  0],\n",
       "         [ 4,  2,  8],\n",
       "         [ 9,  3,  0],\n",
       "         [ 0,  0, 10],\n",
       "         [ 1,  0, 10],\n",
       "         [ 2,  0, 10],\n",
       "         [ 3,  0, 10],\n",
       "         [ 4,  0, 10],\n",
       "         [ 5,  0, 10],\n",
       "         [ 6,  0, 10],\n",
       "         [ 7,  0, 10],\n",
       "         [ 8,  0, 10],\n",
       "         [ 9,  0, 10]]),\n",
       " tensor([ 0, 18,  0, 18,  6, 15,  0, 12, 18,  6,  0]),\n",
       " tensor([0, 2, 3, 0, 0, 0, 0, 0, 2, 0, 0]))"
      ]
     },
     "execution_count": 10,
     "metadata": {},
     "output_type": "execute_result"
    }
   ],
   "source": [
    "train_dset[0]"
   ]
  },
  {
   "cell_type": "code",
   "execution_count": 11,
   "metadata": {},
   "outputs": [
    {
     "data": {
      "text/plain": [
       "8"
      ]
     },
     "execution_count": 11,
     "metadata": {},
     "output_type": "execute_result"
    }
   ],
   "source": [
    "args.loader_num_workers"
   ]
  },
  {
   "cell_type": "code",
   "execution_count": 12,
   "metadata": {},
   "outputs": [],
   "source": [
    "loader_kwargs = {\n",
    "        'batch_size': args.batch_size,\n",
    "        'num_workers': 1, #args.loader_num_workers,\n",
    "        'shuffle': True,\n",
    "        'collate_fn': new_collate_fn,\n",
    "    }"
   ]
  },
  {
   "cell_type": "code",
   "execution_count": 13,
   "metadata": {},
   "outputs": [],
   "source": [
    "train_loader = DataLoader(train_dset, **loader_kwargs)"
   ]
  },
  {
   "cell_type": "code",
   "execution_count": 14,
   "metadata": {},
   "outputs": [],
   "source": [
    "fetgg = FromEncoderToGraphGenerator()"
   ]
  },
  {
   "cell_type": "code",
   "execution_count": null,
   "metadata": {},
   "outputs": [],
   "source": [
    "use_cuda = False"
   ]
  },
  {
   "cell_type": "code",
   "execution_count": null,
   "metadata": {},
   "outputs": [],
   "source": [
    "if use_cuda:\n",
    "    fetgg = fetgg.cuda()"
   ]
  },
  {
   "cell_type": "code",
   "execution_count": 15,
   "metadata": {},
   "outputs": [],
   "source": [
    "fetgg_optim = torch.optim.Adam(fetgg.parameters(),lr = 1e-4)"
   ]
  },
  {
   "cell_type": "code",
   "execution_count": null,
   "metadata": {},
   "outputs": [
    {
     "data": {
      "application/vnd.jupyter.widget-view+json": {
       "model_id": "224fa09ae72442e4b7329f4acb2c5f84",
       "version_major": 2,
       "version_minor": 0
      },
      "text/plain": [
       "HBox(children=(FloatProgress(value=1.0, bar_style='info', layout=Layout(width='20px'), max=1.0), HTML(value=''…"
      ]
     },
     "metadata": {},
     "output_type": "display_data"
    },
    {
     "name": "stdout",
     "output_type": "stream",
     "text": [
      "3.5674777030944824\n"
     ]
    }
   ],
   "source": [
    "for c, batch in tqdm(enumerate(train_loader)):\n",
    "    objs, boxes, angles, attention_mask = batch[0]\n",
    "    if use_cuda:\n",
    "        objs = objs.to(fetgg.device)\n",
    "        boxes = boxes.to(fetgg.device)\n",
    "        angles = angles.to(fetgg.device)\n",
    "        attention_mask = attention_mask.to(fetgg.device)\n",
    "    \n",
    "    logits, loss = output = fetgg(objs, boxes, angles, attention_mask)\n",
    "    \n",
    "    fetgg_optim.zero_grad()\n",
    "    loss.backward()\n",
    "    fetgg_optim.step()\n",
    "    \n",
    "    if c % 100 == 0:\n",
    "        print(loss.item())"
   ]
  },
  {
   "cell_type": "code",
   "execution_count": null,
   "metadata": {},
   "outputs": [],
   "source": []
  }
 ],
 "metadata": {
  "kernelspec": {
   "display_name": "Python 3",
   "language": "python",
   "name": "python3"
  },
  "language_info": {
   "codemirror_mode": {
    "name": "ipython",
    "version": 3
   },
   "file_extension": ".py",
   "mimetype": "text/x-python",
   "name": "python",
   "nbconvert_exporter": "python",
   "pygments_lexer": "ipython3",
   "version": "3.8.5"
  }
 },
 "nbformat": 4,
 "nbformat_minor": 5
}
