{
 "cells": [
  {
   "cell_type": "code",
   "execution_count": null,
   "id": "super-inspection",
   "metadata": {},
   "outputs": [],
   "source": [
    "import numpy as np\n",
    "from tqdm.auto import tqdm\n",
    "import networkx as nx\n",
    "import pickle"
   ]
  },
  {
   "cell_type": "code",
   "execution_count": null,
   "id": "informative-large",
   "metadata": {},
   "outputs": [],
   "source": [
    "from utils import load_json, compute_rel"
   ]
  },
  {
   "cell_type": "code",
   "execution_count": null,
   "id": "exciting-ethics",
   "metadata": {},
   "outputs": [],
   "source": [
    "bedroom_sg = load_json(\"3dp/sgn-data-train/bedroom_data.json\")"
   ]
  },
  {
   "cell_type": "code",
   "execution_count": null,
   "id": "lonely-victorian",
   "metadata": {},
   "outputs": [],
   "source": [
    "#bedroom_info = load_json(\"metadata/data_rot_train.json\")"
   ]
  },
  {
   "cell_type": "code",
   "execution_count": null,
   "id": "closed-general",
   "metadata": {},
   "outputs": [],
   "source": [
    "#bedroom_sg[3]"
   ]
  },
  {
   "cell_type": "code",
   "execution_count": null,
   "id": "parliamentary-organ",
   "metadata": {},
   "outputs": [],
   "source": [
    "index = np.random.randint(100)"
   ]
  },
  {
   "cell_type": "code",
   "execution_count": null,
   "id": "impressed-praise",
   "metadata": {},
   "outputs": [],
   "source": [
    "#bedroom_sg[index]['node_list']"
   ]
  },
  {
   "cell_type": "code",
   "execution_count": null,
   "id": "south-institute",
   "metadata": {},
   "outputs": [],
   "source": []
  },
  {
   "cell_type": "code",
   "execution_count": null,
   "id": "palestinian-gothic",
   "metadata": {},
   "outputs": [],
   "source": [
    "relation_graph = nx.Graph()"
   ]
  },
  {
   "cell_type": "code",
   "execution_count": null,
   "id": "geographic-polymer",
   "metadata": {
    "scrolled": true
   },
   "outputs": [],
   "source": [
    "for index in tqdm(range(len(bedroom_sg))): #len(bedroom_sg)\n",
    "    G = nx.Graph()\n",
    "    for obj_key in bedroom_sg[index]['node_list']:\n",
    "        obj_info = bedroom_sg[index]['node_list'][obj_key]\n",
    "        obj_vocab = obj_key.split(\"_\")[-1] if not \"wall\" in obj_key else \"wall\"\n",
    "        # print(obj_vocab, obj_info)\n",
    "        if obj_vocab not in G.nodes:\n",
    "            G.add_node(obj_vocab)\n",
    "            G.nodes[obj_vocab][\"count\"] = 1\n",
    "            G.nodes[obj_vocab][\"surround\"] = []\n",
    "            G.nodes[obj_vocab][\"support\"] = []\n",
    "            G.nodes[obj_vocab][\"co-occurrence\"] = []\n",
    "        else:\n",
    "            G.nodes[obj_vocab][\"count\"] += 1\n",
    "\n",
    "        if 'support' in obj_info:\n",
    "            for support_obj_id in obj_info['support']:\n",
    "                support_obj_vocab = support_obj_id.split('_')[-1]\n",
    "                G.nodes[obj_vocab][\"support\"].append(support_obj_vocab)\n",
    "\n",
    "                if support_obj_vocab not in G.nodes:\n",
    "                    G.add_node(support_obj_vocab)\n",
    "                    G.nodes[support_obj_vocab][\"count\"] = 0\n",
    "                    G.nodes[support_obj_vocab][\"surround\"] = []\n",
    "                    G.nodes[support_obj_vocab][\"support\"] = []\n",
    "                    G.nodes[support_obj_vocab][\"co-occurrence\"] = []\n",
    "\n",
    "                G.add_edge(obj_vocab, support_obj_vocab)\n",
    "\n",
    "        if 'surround' in obj_info and len(obj_info['surround']) > 0:\n",
    "            # print(\"SURROUND\", obj_key, obj_info)\n",
    "            for surround_obj_id in obj_info['surround']:\n",
    "                surround_obj_vocab = list(surround_obj_id.keys())[0].split('_')[-1]\n",
    "                G.nodes[obj_vocab][\"surround\"].append(surround_obj_vocab)\n",
    "\n",
    "                if surround_obj_vocab not in G.nodes:\n",
    "                    G.add_node(surround_obj_vocab)\n",
    "                    G.nodes[surround_obj_vocab][\"count\"] = 0\n",
    "                    G.nodes[surround_obj_vocab][\"surround\"] = []\n",
    "                    G.nodes[surround_obj_vocab][\"support\"] = []\n",
    "                    G.nodes[surround_obj_vocab][\"co-occurrence\"] = []\n",
    "\n",
    "                G.add_edge(obj_vocab, surround_obj_vocab)\n",
    "\n",
    "        if 'co-occurrence' in obj_info and len(obj_info['co-occurrence']) > 0:\n",
    "            for cooccurrence_obj_id in obj_info['co-occurrence']:\n",
    "                cooccurrence_obj_vocab = cooccurrence_obj_id.split('_')[-1] if not \"wall\" in cooccurrence_obj_id else \"wall\"\n",
    "                if cooccurrence_obj_vocab not in G.nodes[obj_vocab][\"co-occurrence\"]:\n",
    "                    G.nodes[obj_vocab][\"co-occurrence\"].append(cooccurrence_obj_vocab)\n",
    "\n",
    "                if cooccurrence_obj_vocab not in G.nodes:\n",
    "                    G.add_node(cooccurrence_obj_vocab)\n",
    "                    G.nodes[cooccurrence_obj_vocab][\"count\"] = 0\n",
    "                    G.nodes[cooccurrence_obj_vocab][\"co-occurrence\"] = []\n",
    "                    G.nodes[cooccurrence_obj_vocab][\"surround\"] = []\n",
    "                    G.nodes[cooccurrence_obj_vocab][\"support\"] = []\n",
    "\n",
    "                G.add_edge(obj_vocab, cooccurrence_obj_vocab)\n",
    "\n",
    "    for node in G.nodes:\n",
    "        for obj1 in G.nodes[node][\"co-occurrence\"]:\n",
    "            for obj2 in G.nodes[node][\"co-occurrence\"]:\n",
    "                # add node and edge\n",
    "                if obj1 not in relation_graph.nodes:\n",
    "                    relation_graph.add_node(obj1)\n",
    "\n",
    "                if obj2 not in relation_graph.nodes:\n",
    "                    relation_graph.add_node(obj2)\n",
    "\n",
    "                if (obj1, obj2) not in relation_graph.edges:\n",
    "                    relation_graph.add_edge(obj1, obj2)\n",
    "                    relation_graph.edges[(obj1,obj2)]['count'] = 1\n",
    "                else:\n",
    "                    relation_graph.edges[(obj1,obj2)]['count'] += 1\n",
    "\n",
    "        for obj1 in G.nodes[node][\"support\"]:\n",
    "            for obj2 in G.nodes[node][\"support\"]:\n",
    "                # add node and edge\n",
    "                if obj1 not in relation_graph.nodes:\n",
    "                    relation_graph.add_node(obj1)\n",
    "\n",
    "                if obj2 not in relation_graph.nodes:\n",
    "                    relation_graph.add_node(obj2)\n",
    "\n",
    "                if (obj1, obj2) not in relation_graph.edges:\n",
    "                    relation_graph.add_edge(obj1, obj2)\n",
    "                    relation_graph.edges[(obj1,obj2)]['count'] = 1\n",
    "                else:\n",
    "                    relation_graph.edges[(obj1,obj2)]['count'] += 1\n",
    "    "
   ]
  },
  {
   "cell_type": "code",
   "execution_count": null,
   "id": "median-permission",
   "metadata": {
    "scrolled": true
   },
   "outputs": [],
   "source": [
    "relation_graph.edges('bed')"
   ]
  },
  {
   "cell_type": "code",
   "execution_count": null,
   "id": "handled-savannah",
   "metadata": {},
   "outputs": [],
   "source": [
    "relation_graph.nodes()"
   ]
  },
  {
   "cell_type": "code",
   "execution_count": null,
   "id": "growing-garlic",
   "metadata": {},
   "outputs": [],
   "source": [
    "for edge in relation_graph.edges('bed'):\n",
    "    print(edge, \":\", relation_graph.edges[edge]['count'])"
   ]
  },
  {
   "cell_type": "code",
   "execution_count": null,
   "id": "nominated-amazon",
   "metadata": {
    "scrolled": true
   },
   "outputs": [],
   "source": [
    "relation_graph.out_edges('bed')"
   ]
  },
  {
   "cell_type": "code",
   "execution_count": null,
   "id": "inside-superintendent",
   "metadata": {},
   "outputs": [],
   "source": [
    "pickle.dump(relation_graph, open(\"new/relation_graph_v1.p\", \"wb\"))"
   ]
  },
  {
   "cell_type": "code",
   "execution_count": null,
   "id": "exempt-familiar",
   "metadata": {},
   "outputs": [],
   "source": [
    "\"shower_curtain\" in relation_graph.nodes"
   ]
  },
  {
   "cell_type": "code",
   "execution_count": null,
   "id": "charitable-interstate",
   "metadata": {},
   "outputs": [],
   "source": []
  }
 ],
 "metadata": {
  "kernelspec": {
   "display_name": "Python 3",
   "language": "python",
   "name": "python3"
  },
  "language_info": {
   "codemirror_mode": {
    "name": "ipython",
    "version": 3
   },
   "file_extension": ".py",
   "mimetype": "text/x-python",
   "name": "python",
   "nbconvert_exporter": "python",
   "pygments_lexer": "ipython3",
   "version": "3.7.9"
  }
 },
 "nbformat": 4,
 "nbformat_minor": 5
}
