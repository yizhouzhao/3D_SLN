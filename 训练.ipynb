{
 "cells": [
  {
   "cell_type": "code",
   "execution_count": 1,
   "id": "modern-second",
   "metadata": {},
   "outputs": [],
   "source": [
    "from options.options import Options\n",
    "import os\n",
    "import torch\n",
    "from build_dataset_model import build_loaders, build_model\n",
    "from utils import get_model_attr, calculate_model_losses, tensor_aug\n",
    "from collections import defaultdict\n",
    "import math"
   ]
  },
  {
   "cell_type": "code",
   "execution_count": 2,
   "id": "careful-evolution",
   "metadata": {},
   "outputs": [
    {
     "name": "stdout",
     "output_type": "stream",
     "text": [
      "| options\n",
      "dataset: suncg\n",
      "suncg_train_dir: metadata/data_rot_train.json\n",
      "suncg_val_dir: metadata/data_rot_val.json\n",
      "suncg_data_dir: /home/yizhou/Research/SUNCG/suncg_data\n",
      "loader_num_workers: 8\n",
      "embedding_dim: 64\n",
      "gconv_mode: feedforward\n",
      "gconv_dim: 128\n",
      "gconv_hidden_dim: 512\n",
      "gconv_num_layers: 5\n",
      "mlp_normalization: batch\n",
      "vec_noise_dim: 0\n",
      "layout_noise_dim: 32\n",
      "batch_size: 16\n",
      "num_iterations: 60000\n",
      "eval_mode_after: -1\n",
      "learning_rate: 0.0001\n",
      "print_every: 100\n",
      "checkpoint_every: 1000\n",
      "snapshot_every: 10000\n",
      "output_dir: ./checkpoints\n",
      "checkpoint_name: latest_checkpoint\n",
      "timing: False\n",
      "multigpu: False\n",
      "restore_from_checkpoint: False\n",
      "checkpoint_start_from: None\n",
      "test_dir: ./layouts_out\n",
      "gpu_id: 0\n",
      "KL_loss_weight: 0.1\n",
      "use_AE: False\n",
      "decoder_cat: True\n",
      "train_3d: True\n",
      "KL_linear_decay: False\n",
      "use_attr_30: True\n",
      "manual_seed: 42\n",
      "batch_gen: False\n",
      "measure_acc_l1_std: False\n",
      "heat_map: False\n",
      "draw_2d: False\n",
      "draw_3d: False\n",
      "fine_tune: False\n",
      "gan_shade: False\n",
      "blender_path: /home/yizhou/blender-2.92.0-linux64/blender\n",
      "\n"
     ]
    }
   ],
   "source": [
    "args = Options().parse()\n",
    "if (args.output_dir is not None) and (not os.path.isdir(args.output_dir)):\n",
    "    os.mkdir(args.output_dir)\n",
    "if (args.test_dir is not None) and (not os.path.isdir(args.test_dir)):\n",
    "    os.mkdir(args.test_dir)"
   ]
  },
  {
   "cell_type": "code",
   "execution_count": 3,
   "id": "forbidden-commission",
   "metadata": {
    "scrolled": false
   },
   "outputs": [
    {
     "name": "stdout",
     "output_type": "stream",
     "text": [
      "Starting to read the json file for SUNCG\n",
      "loading relation score matrix from:  new/relation_graph_v1.p\n",
      "Training dataset has 53860 scenes and 708041 objects\n",
      "(13.15 objects per image)\n",
      "Starting to read the json file for SUNCG\n",
      "loading relation score matrix from:  new/relation_graph_v1.p\n"
     ]
    }
   ],
   "source": [
    "vocab, train_loader, val_loader = build_loaders(args)"
   ]
  },
  {
   "cell_type": "code",
   "execution_count": 4,
   "id": "exclusive-activity",
   "metadata": {},
   "outputs": [],
   "source": [
    "dt = train_loader.dataset"
   ]
  },
  {
   "cell_type": "code",
   "execution_count": 5,
   "id": "lightweight-success",
   "metadata": {},
   "outputs": [],
   "source": [
    "model, model_kwargs = build_model(args, vocab)"
   ]
  },
  {
   "cell_type": "code",
   "execution_count": 6,
   "id": "operating-certification",
   "metadata": {},
   "outputs": [
    {
     "name": "stdout",
     "output_type": "stream",
     "text": [
      "Sg2ScVAEModel(\n",
      "  (obj_embeddings_ec): Embedding(33, 48)\n",
      "  (pred_embeddings_ec): Embedding(16, 128)\n",
      "  (obj_embeddings_dc): Embedding(33, 48)\n",
      "  (pred_embeddings_dc): Embedding(16, 128)\n",
      "  (attr_embedding_ec): Embedding(5, 16)\n",
      "  (attr_embedding_dc): Embedding(5, 16)\n",
      "  (box_embeddings): Linear(in_features=6, out_features=48, bias=True)\n",
      "  (angle_embeddings): Embedding(24, 16)\n",
      "  (box_mean_var): Sequential(\n",
      "    (0): Linear(in_features=128, out_features=256, bias=True)\n",
      "    (1): BatchNorm1d(256, eps=1e-05, momentum=0.1, affine=True, track_running_stats=True)\n",
      "    (2): ReLU()\n",
      "    (3): Linear(in_features=256, out_features=128, bias=True)\n",
      "    (4): BatchNorm1d(128, eps=1e-05, momentum=0.1, affine=True, track_running_stats=True)\n",
      "    (5): ReLU()\n",
      "  )\n",
      "  (box_mean): Sequential(\n",
      "    (0): Linear(in_features=128, out_features=48, bias=True)\n",
      "  )\n",
      "  (box_var): Sequential(\n",
      "    (0): Linear(in_features=128, out_features=48, bias=True)\n",
      "  )\n",
      "  (angle_mean_var): Sequential(\n",
      "    (0): Linear(in_features=128, out_features=256, bias=True)\n",
      "    (1): BatchNorm1d(256, eps=1e-05, momentum=0.1, affine=True, track_running_stats=True)\n",
      "    (2): ReLU()\n",
      "    (3): Linear(in_features=256, out_features=128, bias=True)\n",
      "    (4): BatchNorm1d(128, eps=1e-05, momentum=0.1, affine=True, track_running_stats=True)\n",
      "    (5): ReLU()\n",
      "  )\n",
      "  (angle_mean): Sequential(\n",
      "    (0): Linear(in_features=128, out_features=16, bias=True)\n",
      "  )\n",
      "  (angle_var): Sequential(\n",
      "    (0): Linear(in_features=128, out_features=16, bias=True)\n",
      "  )\n",
      "  (gconv_net_ec): GraphTripleConvNet(\n",
      "    (gconvs): ModuleList(\n",
      "      (0): GraphTripleConv(\n",
      "        (net1): Sequential(\n",
      "          (0): Linear(in_features=384, out_features=256, bias=True)\n",
      "          (1): BatchNorm1d(256, eps=1e-05, momentum=0.1, affine=True, track_running_stats=True)\n",
      "          (2): ReLU()\n",
      "          (3): Linear(in_features=256, out_features=640, bias=True)\n",
      "          (4): BatchNorm1d(640, eps=1e-05, momentum=0.1, affine=True, track_running_stats=True)\n",
      "          (5): ReLU()\n",
      "        )\n",
      "        (net2): Sequential(\n",
      "          (0): Linear(in_features=256, out_features=256, bias=True)\n",
      "          (1): BatchNorm1d(256, eps=1e-05, momentum=0.1, affine=True, track_running_stats=True)\n",
      "          (2): ReLU()\n",
      "          (3): Linear(in_features=256, out_features=128, bias=True)\n",
      "          (4): BatchNorm1d(128, eps=1e-05, momentum=0.1, affine=True, track_running_stats=True)\n",
      "          (5): ReLU()\n",
      "        )\n",
      "      )\n",
      "      (1): GraphTripleConv(\n",
      "        (net1): Sequential(\n",
      "          (0): Linear(in_features=384, out_features=256, bias=True)\n",
      "          (1): BatchNorm1d(256, eps=1e-05, momentum=0.1, affine=True, track_running_stats=True)\n",
      "          (2): ReLU()\n",
      "          (3): Linear(in_features=256, out_features=640, bias=True)\n",
      "          (4): BatchNorm1d(640, eps=1e-05, momentum=0.1, affine=True, track_running_stats=True)\n",
      "          (5): ReLU()\n",
      "        )\n",
      "        (net2): Sequential(\n",
      "          (0): Linear(in_features=256, out_features=256, bias=True)\n",
      "          (1): BatchNorm1d(256, eps=1e-05, momentum=0.1, affine=True, track_running_stats=True)\n",
      "          (2): ReLU()\n",
      "          (3): Linear(in_features=256, out_features=128, bias=True)\n",
      "          (4): BatchNorm1d(128, eps=1e-05, momentum=0.1, affine=True, track_running_stats=True)\n",
      "          (5): ReLU()\n",
      "        )\n",
      "      )\n",
      "      (2): GraphTripleConv(\n",
      "        (net1): Sequential(\n",
      "          (0): Linear(in_features=384, out_features=256, bias=True)\n",
      "          (1): BatchNorm1d(256, eps=1e-05, momentum=0.1, affine=True, track_running_stats=True)\n",
      "          (2): ReLU()\n",
      "          (3): Linear(in_features=256, out_features=640, bias=True)\n",
      "          (4): BatchNorm1d(640, eps=1e-05, momentum=0.1, affine=True, track_running_stats=True)\n",
      "          (5): ReLU()\n",
      "        )\n",
      "        (net2): Sequential(\n",
      "          (0): Linear(in_features=256, out_features=256, bias=True)\n",
      "          (1): BatchNorm1d(256, eps=1e-05, momentum=0.1, affine=True, track_running_stats=True)\n",
      "          (2): ReLU()\n",
      "          (3): Linear(in_features=256, out_features=128, bias=True)\n",
      "          (4): BatchNorm1d(128, eps=1e-05, momentum=0.1, affine=True, track_running_stats=True)\n",
      "          (5): ReLU()\n",
      "        )\n",
      "      )\n",
      "      (3): GraphTripleConv(\n",
      "        (net1): Sequential(\n",
      "          (0): Linear(in_features=384, out_features=256, bias=True)\n",
      "          (1): BatchNorm1d(256, eps=1e-05, momentum=0.1, affine=True, track_running_stats=True)\n",
      "          (2): ReLU()\n",
      "          (3): Linear(in_features=256, out_features=640, bias=True)\n",
      "          (4): BatchNorm1d(640, eps=1e-05, momentum=0.1, affine=True, track_running_stats=True)\n",
      "          (5): ReLU()\n",
      "        )\n",
      "        (net2): Sequential(\n",
      "          (0): Linear(in_features=256, out_features=256, bias=True)\n",
      "          (1): BatchNorm1d(256, eps=1e-05, momentum=0.1, affine=True, track_running_stats=True)\n",
      "          (2): ReLU()\n",
      "          (3): Linear(in_features=256, out_features=128, bias=True)\n",
      "          (4): BatchNorm1d(128, eps=1e-05, momentum=0.1, affine=True, track_running_stats=True)\n",
      "          (5): ReLU()\n",
      "        )\n",
      "      )\n",
      "      (4): GraphTripleConv(\n",
      "        (net1): Sequential(\n",
      "          (0): Linear(in_features=384, out_features=256, bias=True)\n",
      "          (1): BatchNorm1d(256, eps=1e-05, momentum=0.1, affine=True, track_running_stats=True)\n",
      "          (2): ReLU()\n",
      "          (3): Linear(in_features=256, out_features=640, bias=True)\n",
      "          (4): BatchNorm1d(640, eps=1e-05, momentum=0.1, affine=True, track_running_stats=True)\n",
      "          (5): ReLU()\n",
      "        )\n",
      "        (net2): Sequential(\n",
      "          (0): Linear(in_features=256, out_features=256, bias=True)\n",
      "          (1): BatchNorm1d(256, eps=1e-05, momentum=0.1, affine=True, track_running_stats=True)\n",
      "          (2): ReLU()\n",
      "          (3): Linear(in_features=256, out_features=128, bias=True)\n",
      "          (4): BatchNorm1d(128, eps=1e-05, momentum=0.1, affine=True, track_running_stats=True)\n",
      "          (5): ReLU()\n",
      "        )\n",
      "      )\n",
      "    )\n",
      "  )\n",
      "  (gconv_net_dc): GraphTripleConvNet(\n",
      "    (gconvs): ModuleList(\n",
      "      (0): GraphTripleConv(\n",
      "        (net1): Sequential(\n",
      "          (0): Linear(in_features=384, out_features=256, bias=True)\n",
      "          (1): BatchNorm1d(256, eps=1e-05, momentum=0.1, affine=True, track_running_stats=True)\n",
      "          (2): ReLU()\n",
      "          (3): Linear(in_features=256, out_features=640, bias=True)\n",
      "          (4): BatchNorm1d(640, eps=1e-05, momentum=0.1, affine=True, track_running_stats=True)\n",
      "          (5): ReLU()\n",
      "        )\n",
      "        (net2): Sequential(\n",
      "          (0): Linear(in_features=256, out_features=256, bias=True)\n",
      "          (1): BatchNorm1d(256, eps=1e-05, momentum=0.1, affine=True, track_running_stats=True)\n",
      "          (2): ReLU()\n",
      "          (3): Linear(in_features=256, out_features=128, bias=True)\n",
      "          (4): BatchNorm1d(128, eps=1e-05, momentum=0.1, affine=True, track_running_stats=True)\n",
      "          (5): ReLU()\n",
      "        )\n",
      "      )\n",
      "      (1): GraphTripleConv(\n",
      "        (net1): Sequential(\n",
      "          (0): Linear(in_features=384, out_features=256, bias=True)\n",
      "          (1): BatchNorm1d(256, eps=1e-05, momentum=0.1, affine=True, track_running_stats=True)\n",
      "          (2): ReLU()\n",
      "          (3): Linear(in_features=256, out_features=640, bias=True)\n",
      "          (4): BatchNorm1d(640, eps=1e-05, momentum=0.1, affine=True, track_running_stats=True)\n",
      "          (5): ReLU()\n",
      "        )\n",
      "        (net2): Sequential(\n",
      "          (0): Linear(in_features=256, out_features=256, bias=True)\n",
      "          (1): BatchNorm1d(256, eps=1e-05, momentum=0.1, affine=True, track_running_stats=True)\n",
      "          (2): ReLU()\n",
      "          (3): Linear(in_features=256, out_features=128, bias=True)\n",
      "          (4): BatchNorm1d(128, eps=1e-05, momentum=0.1, affine=True, track_running_stats=True)\n",
      "          (5): ReLU()\n",
      "        )\n",
      "      )\n",
      "      (2): GraphTripleConv(\n",
      "        (net1): Sequential(\n",
      "          (0): Linear(in_features=384, out_features=256, bias=True)\n",
      "          (1): BatchNorm1d(256, eps=1e-05, momentum=0.1, affine=True, track_running_stats=True)\n",
      "          (2): ReLU()\n",
      "          (3): Linear(in_features=256, out_features=640, bias=True)\n",
      "          (4): BatchNorm1d(640, eps=1e-05, momentum=0.1, affine=True, track_running_stats=True)\n",
      "          (5): ReLU()\n",
      "        )\n",
      "        (net2): Sequential(\n",
      "          (0): Linear(in_features=256, out_features=256, bias=True)\n",
      "          (1): BatchNorm1d(256, eps=1e-05, momentum=0.1, affine=True, track_running_stats=True)\n",
      "          (2): ReLU()\n",
      "          (3): Linear(in_features=256, out_features=128, bias=True)\n",
      "          (4): BatchNorm1d(128, eps=1e-05, momentum=0.1, affine=True, track_running_stats=True)\n",
      "          (5): ReLU()\n",
      "        )\n",
      "      )\n",
      "      (3): GraphTripleConv(\n",
      "        (net1): Sequential(\n",
      "          (0): Linear(in_features=384, out_features=256, bias=True)\n",
      "          (1): BatchNorm1d(256, eps=1e-05, momentum=0.1, affine=True, track_running_stats=True)\n",
      "          (2): ReLU()\n",
      "          (3): Linear(in_features=256, out_features=640, bias=True)\n",
      "          (4): BatchNorm1d(640, eps=1e-05, momentum=0.1, affine=True, track_running_stats=True)\n",
      "          (5): ReLU()\n",
      "        )\n",
      "        (net2): Sequential(\n",
      "          (0): Linear(in_features=256, out_features=256, bias=True)\n",
      "          (1): BatchNorm1d(256, eps=1e-05, momentum=0.1, affine=True, track_running_stats=True)\n",
      "          (2): ReLU()\n",
      "          (3): Linear(in_features=256, out_features=128, bias=True)\n",
      "          (4): BatchNorm1d(128, eps=1e-05, momentum=0.1, affine=True, track_running_stats=True)\n",
      "          (5): ReLU()\n",
      "        )\n",
      "      )\n",
      "      (4): GraphTripleConv(\n",
      "        (net1): Sequential(\n",
      "          (0): Linear(in_features=384, out_features=256, bias=True)\n",
      "          (1): BatchNorm1d(256, eps=1e-05, momentum=0.1, affine=True, track_running_stats=True)\n",
      "          (2): ReLU()\n",
      "          (3): Linear(in_features=256, out_features=640, bias=True)\n",
      "          (4): BatchNorm1d(640, eps=1e-05, momentum=0.1, affine=True, track_running_stats=True)\n",
      "          (5): ReLU()\n",
      "        )\n",
      "        (net2): Sequential(\n",
      "          (0): Linear(in_features=256, out_features=256, bias=True)\n",
      "          (1): BatchNorm1d(256, eps=1e-05, momentum=0.1, affine=True, track_running_stats=True)\n",
      "          (2): ReLU()\n",
      "          (3): Linear(in_features=256, out_features=128, bias=True)\n",
      "          (4): BatchNorm1d(128, eps=1e-05, momentum=0.1, affine=True, track_running_stats=True)\n",
      "          (5): ReLU()\n",
      "        )\n",
      "      )\n",
      "    )\n",
      "  )\n",
      "  (box_net): Sequential(\n",
      "    (0): Linear(in_features=144, out_features=256, bias=True)\n",
      "    (1): BatchNorm1d(256, eps=1e-05, momentum=0.1, affine=True, track_running_stats=True)\n",
      "    (2): ReLU()\n",
      "    (3): Linear(in_features=256, out_features=6, bias=True)\n",
      "  )\n",
      "  (angle_net): Sequential(\n",
      "    (0): Linear(in_features=128, out_features=256, bias=True)\n",
      "    (1): BatchNorm1d(256, eps=1e-05, momentum=0.1, affine=True, track_running_stats=True)\n",
      "    (2): ReLU()\n",
      "    (3): Linear(in_features=256, out_features=24, bias=True)\n",
      "  )\n",
      ")\n"
     ]
    }
   ],
   "source": [
    "print(model)\n",
    "model.float().cuda()\n",
    "optimizer = torch.optim.Adam(model.parameters(), lr=args.learning_rate)"
   ]
  },
  {
   "cell_type": "code",
   "execution_count": 7,
   "id": "ambient-advertising",
   "metadata": {},
   "outputs": [],
   "source": [
    "for batch in train_loader:\n",
    "    ids, objs, boxes, triples, angles, attributes, obj_to_img, triple_to_img = tensor_aug(batch)\n",
    "    break"
   ]
  },
  {
   "cell_type": "code",
   "execution_count": 10,
   "id": "designing-specific",
   "metadata": {},
   "outputs": [],
   "source": [
    "model_out = model(objs, triples, boxes, angles, attributes, obj_to_img)\n",
    "mu, logvar, boxes_pred, angles_pred = model_out"
   ]
  },
  {
   "cell_type": "code",
   "execution_count": 12,
   "id": "opened-capture",
   "metadata": {},
   "outputs": [
    {
     "data": {
      "text/plain": [
       "True"
      ]
     },
     "execution_count": 12,
     "metadata": {},
     "output_type": "execute_result"
    }
   ],
   "source": [
    "model.decoder_cat"
   ]
  },
  {
   "cell_type": "code",
   "execution_count": 13,
   "id": "accessory-nomination",
   "metadata": {},
   "outputs": [
    {
     "data": {
      "text/plain": [
       "torch.Size([240, 64])"
      ]
     },
     "execution_count": 13,
     "metadata": {},
     "output_type": "execute_result"
    }
   ],
   "source": [
    "mu.shape"
   ]
  },
  {
   "cell_type": "code",
   "execution_count": 14,
   "id": "flexible-purpose",
   "metadata": {},
   "outputs": [
    {
     "data": {
      "text/plain": [
       "torch.Size([240])"
      ]
     },
     "execution_count": 14,
     "metadata": {},
     "output_type": "execute_result"
    }
   ],
   "source": [
    "objs.shape"
   ]
  },
  {
   "cell_type": "code",
   "execution_count": 18,
   "id": "growing-tradition",
   "metadata": {},
   "outputs": [
    {
     "data": {
      "text/plain": [
       "Embedding(16, 128)"
      ]
     },
     "execution_count": 18,
     "metadata": {},
     "output_type": "execute_result"
    }
   ],
   "source": [
    "model.pred_embeddings_ec"
   ]
  },
  {
   "cell_type": "code",
   "execution_count": 19,
   "id": "historic-wheel",
   "metadata": {},
   "outputs": [
    {
     "data": {
      "text/plain": [
       "'1.8.1+cu111'"
      ]
     },
     "execution_count": 19,
     "metadata": {},
     "output_type": "execute_result"
    }
   ],
   "source": [
    "torch.__version__"
   ]
  },
  {
   "cell_type": "code",
   "execution_count": 20,
   "id": "occasional-poster",
   "metadata": {},
   "outputs": [
    {
     "data": {
      "text/plain": [
       "'11.1'"
      ]
     },
     "execution_count": 20,
     "metadata": {},
     "output_type": "execute_result"
    }
   ],
   "source": [
    "torch.version.cuda"
   ]
  },
  {
   "cell_type": "code",
   "execution_count": null,
   "id": "labeled-occasion",
   "metadata": {},
   "outputs": [],
   "source": []
  }
 ],
 "metadata": {
  "kernelspec": {
   "display_name": "Python 3",
   "language": "python",
   "name": "python3"
  },
  "language_info": {
   "codemirror_mode": {
    "name": "ipython",
    "version": 3
   },
   "file_extension": ".py",
   "mimetype": "text/x-python",
   "name": "python",
   "nbconvert_exporter": "python",
   "pygments_lexer": "ipython3",
   "version": "3.7.10"
  }
 },
 "nbformat": 4,
 "nbformat_minor": 5
}
