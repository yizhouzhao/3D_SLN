{
 "cells": [
  {
   "cell_type": "code",
   "execution_count": 1,
   "metadata": {},
   "outputs": [],
   "source": [
    "from options.options import Options\n",
    "import os\n",
    "import torch\n",
    "from build_dataset_model import build_loaders, build_model\n",
    "from utils import get_model_attr, calculate_model_losses, tensor_aug\n",
    "from collections import defaultdict\n",
    "import math"
   ]
  },
  {
   "cell_type": "code",
   "execution_count": 2,
   "metadata": {
    "scrolled": true
   },
   "outputs": [
    {
     "name": "stdout",
     "output_type": "stream",
     "text": [
      "| options\n",
      "dataset: suncg\n",
      "suncg_train_dir: metadata/data_rot_train.json\n",
      "suncg_val_dir: metadata/data_rot_val.json\n",
      "suncg_data_dir: /home/yizhou/Research/SUNCG/suncg_data\n",
      "loader_num_workers: 8\n",
      "embedding_dim: 64\n",
      "gconv_mode: feedforward\n",
      "gconv_dim: 128\n",
      "gconv_hidden_dim: 512\n",
      "gconv_num_layers: 5\n",
      "mlp_normalization: batch\n",
      "vec_noise_dim: 0\n",
      "layout_noise_dim: 32\n",
      "batch_size: 16\n",
      "num_iterations: 20000\n",
      "eval_mode_after: -1\n",
      "learning_rate: 7e-05\n",
      "print_every: 10\n",
      "checkpoint_every: 1000\n",
      "snapshot_every: 10000\n",
      "output_dir: ./checkpoints\n",
      "checkpoint_name: latest_checkpoint\n",
      "timing: False\n",
      "multigpu: False\n",
      "restore_from_checkpoint: False\n",
      "checkpoint_start_from: None\n",
      "test_dir: ./layouts_out\n",
      "gpu_id: 0\n",
      "KL_loss_weight: 0.1\n",
      "use_AE: False\n",
      "decoder_cat: True\n",
      "train_3d: True\n",
      "KL_linear_decay: False\n",
      "use_attr_30: True\n",
      "manual_seed: 42\n",
      "batch_gen: False\n",
      "measure_acc_l1_std: False\n",
      "heat_map: False\n",
      "draw_2d: False\n",
      "draw_3d: False\n",
      "fine_tune: False\n",
      "gan_shade: False\n",
      "blender_path: /home/yizhou/blender-2.92.0-linux64/blender\n",
      "entropy_alpha: 0.1\n",
      "rl_angle_loss_weight: 0.1\n",
      "\n"
     ]
    }
   ],
   "source": [
    "args = Options().parse()\n",
    "if (args.output_dir is not None) and (not os.path.isdir(args.output_dir)):\n",
    "    os.mkdir(args.output_dir)\n",
    "if (args.test_dir is not None) and (not os.path.isdir(args.test_dir)):\n",
    "    os.mkdir(args.test_dir)"
   ]
  },
  {
   "cell_type": "code",
   "execution_count": 3,
   "metadata": {
    "scrolled": false
   },
   "outputs": [],
   "source": [
    "args.suncg_train_dir = '/home/yizhou/Research/3D-FRONT-ToolBox/metadata43DSLN/all_room_info.json'\n",
    "\n",
    "args.valid_types_dir = \"/home/yizhou/Research/3D-FRONT-ToolBox/metadata43DSLN/valid_types.json\"\n",
    "\n",
    "args.suncg_val_dir = '/home/yizhou/Research/3D-FRONT-ToolBox/metadata43DSLN/all_room_info.json'"
   ]
  },
  {
   "cell_type": "code",
   "execution_count": 5,
   "metadata": {
    "scrolled": true
   },
   "outputs": [
    {
     "name": "stdout",
     "output_type": "stream",
     "text": [
      "Starting to read the json file for SUNCG\n",
      "Training dataset has 62 scenes and 302 objects\n",
      "(4.87 objects per image)\n",
      "Starting to read the json file for SUNCG\n"
     ]
    }
   ],
   "source": [
    "vocab, train_loader, val_loader = build_loaders(args)"
   ]
  },
  {
   "cell_type": "code",
   "execution_count": 6,
   "metadata": {},
   "outputs": [],
   "source": [
    "dt = train_loader.dataset"
   ]
  },
  {
   "cell_type": "code",
   "execution_count": 7,
   "metadata": {},
   "outputs": [
    {
     "name": "stderr",
     "output_type": "stream",
     "text": [
      "/home/yizhou/Research/3D_SLN/data/suncg_dataset.py:298: UserWarning: This overload of nonzero is deprecated:\n",
      "\tnonzero()\n",
      "Consider using one of the following signatures instead:\n",
      "\tnonzero(*, bool as_tuple) (Triggered internally at  /opt/conda/conda-bld/pytorch_1607370172916/work/torch/csrc/utils/python_arg_parser.cpp:882.)\n",
      "  real_objs = (objs != __room__).nonzero().squeeze(1)\n"
     ]
    },
    {
     "data": {
      "text/plain": [
       "(0,\n",
       " tensor([ 6, 11,  8, 13, 11,  1,  0]),\n",
       " tensor([[ 0.0749,  0.0000,  0.1435,  0.1642,  0.1761,  0.2528],\n",
       "         [ 0.1721,  0.0000,  0.2464,  0.1978,  0.0393,  0.3012],\n",
       "         [ 0.1042,  0.0000,  0.0546,  0.1292,  0.0414,  0.0948],\n",
       "         [-0.0340,  0.0000,  0.1011,  0.0657,  0.0520,  0.3100],\n",
       "         [ 0.0399,  0.0000,  0.2445,  0.0655,  0.0393,  0.2993],\n",
       "         [ 0.0935,  0.5091,  0.0706,  0.1406,  0.2814,  0.2085],\n",
       "         [ 0.0000,  0.0000,  0.0000,  4.5442,  2.5000,  3.3831]]),\n",
       " tensor([[4, 1, 0],\n",
       "         [5, 3, 1],\n",
       "         [4, 4, 2],\n",
       "         [1, 2, 3],\n",
       "         [1, 2, 4],\n",
       "         [0, 9, 5]]),\n",
       " tensor([0, 0, 0, 6, 0, 0, 0]),\n",
       " tensor([2, 0, 0, 0, 0, 4, 0]))"
      ]
     },
     "execution_count": 7,
     "metadata": {},
     "output_type": "execute_result"
    }
   ],
   "source": [
    "dt[0]"
   ]
  },
  {
   "cell_type": "code",
   "execution_count": 9,
   "metadata": {},
   "outputs": [],
   "source": [
    "model, model_kwargs = build_model(args, vocab)"
   ]
  },
  {
   "cell_type": "code",
   "execution_count": 10,
   "metadata": {},
   "outputs": [
    {
     "data": {
      "text/plain": [
       "{'object_idx_to_name': ['__room__',\n",
       "  'lamp',\n",
       "  'armoire',\n",
       "  'chair',\n",
       "  'table',\n",
       "  'desk',\n",
       "  'bed',\n",
       "  'sofa',\n",
       "  'stool',\n",
       "  'shelf',\n",
       "  'stand',\n",
       "  'nightstand',\n",
       "  'cabinet',\n",
       "  'wardrobe',\n",
       "  'frame',\n",
       "  'armchair'],\n",
       " 'object_name_to_idx': {'__room__': 0,\n",
       "  'lamp': 1,\n",
       "  'armoire': 2,\n",
       "  'chair': 3,\n",
       "  'table': 4,\n",
       "  'desk': 5,\n",
       "  'bed': 6,\n",
       "  'sofa': 7,\n",
       "  'stool': 8,\n",
       "  'shelf': 9,\n",
       "  'stand': 10,\n",
       "  'nightstand': 11,\n",
       "  'cabinet': 12,\n",
       "  'wardrobe': 13,\n",
       "  'frame': 14,\n",
       "  'armchair': 15},\n",
       " 'pred_idx_to_name': ['__in_room__',\n",
       "  'left of',\n",
       "  'right of',\n",
       "  'behind',\n",
       "  'in front of',\n",
       "  'inside',\n",
       "  'surrounding',\n",
       "  'left touching',\n",
       "  'right touching',\n",
       "  'front touching',\n",
       "  'behind touching',\n",
       "  'front left',\n",
       "  'front right',\n",
       "  'back left',\n",
       "  'back right',\n",
       "  'on'],\n",
       " 'pred_name_to_idx': {'__in_room__': 0,\n",
       "  'left of': 1,\n",
       "  'right of': 2,\n",
       "  'behind': 3,\n",
       "  'in front of': 4,\n",
       "  'inside': 5,\n",
       "  'surrounding': 6,\n",
       "  'left touching': 7,\n",
       "  'right touching': 8,\n",
       "  'front touching': 9,\n",
       "  'behind touching': 10,\n",
       "  'front left': 11,\n",
       "  'front right': 12,\n",
       "  'back left': 13,\n",
       "  'back right': 14,\n",
       "  'on': 15},\n",
       " 'attrib_idx_to_name': ['none', 'tall', 'short', 'large', 'small'],\n",
       " 'attrib_name_to_idx': {'none': 0,\n",
       "  'tall': 1,\n",
       "  'short': 2,\n",
       "  'large': 3,\n",
       "  'small': 4}}"
      ]
     },
     "execution_count": 10,
     "metadata": {},
     "output_type": "execute_result"
    }
   ],
   "source": [
    "vocab"
   ]
  },
  {
   "cell_type": "code",
   "execution_count": 11,
   "metadata": {
    "scrolled": false
   },
   "outputs": [
    {
     "data": {
      "text/plain": [
       "True"
      ]
     },
     "execution_count": 11,
     "metadata": {},
     "output_type": "execute_result"
    }
   ],
   "source": [
    "args.train_3d"
   ]
  },
  {
   "cell_type": "code",
   "execution_count": 12,
   "metadata": {},
   "outputs": [
    {
     "name": "stdout",
     "output_type": "stream",
     "text": [
      "Sg2ScVAEModel(\n",
      "  (obj_embeddings_ec): Embedding(17, 48)\n",
      "  (pred_embeddings_ec): Embedding(16, 128)\n",
      "  (obj_embeddings_dc): Embedding(17, 48)\n",
      "  (pred_embeddings_dc): Embedding(16, 128)\n",
      "  (attr_embedding_ec): Embedding(5, 16)\n",
      "  (attr_embedding_dc): Embedding(5, 16)\n",
      "  (box_embeddings): Linear(in_features=6, out_features=48, bias=True)\n",
      "  (angle_embeddings): Embedding(24, 16)\n",
      "  (box_mean_var): Sequential(\n",
      "    (0): Linear(in_features=128, out_features=256, bias=True)\n",
      "    (1): BatchNorm1d(256, eps=1e-05, momentum=0.1, affine=True, track_running_stats=True)\n",
      "    (2): ReLU()\n",
      "    (3): Linear(in_features=256, out_features=128, bias=True)\n",
      "    (4): BatchNorm1d(128, eps=1e-05, momentum=0.1, affine=True, track_running_stats=True)\n",
      "    (5): ReLU()\n",
      "  )\n",
      "  (box_mean): Sequential(\n",
      "    (0): Linear(in_features=128, out_features=48, bias=True)\n",
      "  )\n",
      "  (box_var): Sequential(\n",
      "    (0): Linear(in_features=128, out_features=48, bias=True)\n",
      "  )\n",
      "  (angle_mean_var): Sequential(\n",
      "    (0): Linear(in_features=128, out_features=256, bias=True)\n",
      "    (1): BatchNorm1d(256, eps=1e-05, momentum=0.1, affine=True, track_running_stats=True)\n",
      "    (2): ReLU()\n",
      "    (3): Linear(in_features=256, out_features=128, bias=True)\n",
      "    (4): BatchNorm1d(128, eps=1e-05, momentum=0.1, affine=True, track_running_stats=True)\n",
      "    (5): ReLU()\n",
      "  )\n",
      "  (angle_mean): Sequential(\n",
      "    (0): Linear(in_features=128, out_features=16, bias=True)\n",
      "  )\n",
      "  (angle_var): Sequential(\n",
      "    (0): Linear(in_features=128, out_features=16, bias=True)\n",
      "  )\n",
      "  (gconv_net_ec): GraphTripleConvNet(\n",
      "    (gconvs): ModuleList(\n",
      "      (0): GraphTripleConv(\n",
      "        (net1): Sequential(\n",
      "          (0): Linear(in_features=384, out_features=256, bias=True)\n",
      "          (1): BatchNorm1d(256, eps=1e-05, momentum=0.1, affine=True, track_running_stats=True)\n",
      "          (2): ReLU()\n",
      "          (3): Linear(in_features=256, out_features=640, bias=True)\n",
      "          (4): BatchNorm1d(640, eps=1e-05, momentum=0.1, affine=True, track_running_stats=True)\n",
      "          (5): ReLU()\n",
      "        )\n",
      "        (net2): Sequential(\n",
      "          (0): Linear(in_features=256, out_features=256, bias=True)\n",
      "          (1): BatchNorm1d(256, eps=1e-05, momentum=0.1, affine=True, track_running_stats=True)\n",
      "          (2): ReLU()\n",
      "          (3): Linear(in_features=256, out_features=128, bias=True)\n",
      "          (4): BatchNorm1d(128, eps=1e-05, momentum=0.1, affine=True, track_running_stats=True)\n",
      "          (5): ReLU()\n",
      "        )\n",
      "      )\n",
      "      (1): GraphTripleConv(\n",
      "        (net1): Sequential(\n",
      "          (0): Linear(in_features=384, out_features=256, bias=True)\n",
      "          (1): BatchNorm1d(256, eps=1e-05, momentum=0.1, affine=True, track_running_stats=True)\n",
      "          (2): ReLU()\n",
      "          (3): Linear(in_features=256, out_features=640, bias=True)\n",
      "          (4): BatchNorm1d(640, eps=1e-05, momentum=0.1, affine=True, track_running_stats=True)\n",
      "          (5): ReLU()\n",
      "        )\n",
      "        (net2): Sequential(\n",
      "          (0): Linear(in_features=256, out_features=256, bias=True)\n",
      "          (1): BatchNorm1d(256, eps=1e-05, momentum=0.1, affine=True, track_running_stats=True)\n",
      "          (2): ReLU()\n",
      "          (3): Linear(in_features=256, out_features=128, bias=True)\n",
      "          (4): BatchNorm1d(128, eps=1e-05, momentum=0.1, affine=True, track_running_stats=True)\n",
      "          (5): ReLU()\n",
      "        )\n",
      "      )\n",
      "      (2): GraphTripleConv(\n",
      "        (net1): Sequential(\n",
      "          (0): Linear(in_features=384, out_features=256, bias=True)\n",
      "          (1): BatchNorm1d(256, eps=1e-05, momentum=0.1, affine=True, track_running_stats=True)\n",
      "          (2): ReLU()\n",
      "          (3): Linear(in_features=256, out_features=640, bias=True)\n",
      "          (4): BatchNorm1d(640, eps=1e-05, momentum=0.1, affine=True, track_running_stats=True)\n",
      "          (5): ReLU()\n",
      "        )\n",
      "        (net2): Sequential(\n",
      "          (0): Linear(in_features=256, out_features=256, bias=True)\n",
      "          (1): BatchNorm1d(256, eps=1e-05, momentum=0.1, affine=True, track_running_stats=True)\n",
      "          (2): ReLU()\n",
      "          (3): Linear(in_features=256, out_features=128, bias=True)\n",
      "          (4): BatchNorm1d(128, eps=1e-05, momentum=0.1, affine=True, track_running_stats=True)\n",
      "          (5): ReLU()\n",
      "        )\n",
      "      )\n",
      "      (3): GraphTripleConv(\n",
      "        (net1): Sequential(\n",
      "          (0): Linear(in_features=384, out_features=256, bias=True)\n",
      "          (1): BatchNorm1d(256, eps=1e-05, momentum=0.1, affine=True, track_running_stats=True)\n",
      "          (2): ReLU()\n",
      "          (3): Linear(in_features=256, out_features=640, bias=True)\n",
      "          (4): BatchNorm1d(640, eps=1e-05, momentum=0.1, affine=True, track_running_stats=True)\n",
      "          (5): ReLU()\n",
      "        )\n",
      "        (net2): Sequential(\n",
      "          (0): Linear(in_features=256, out_features=256, bias=True)\n",
      "          (1): BatchNorm1d(256, eps=1e-05, momentum=0.1, affine=True, track_running_stats=True)\n",
      "          (2): ReLU()\n",
      "          (3): Linear(in_features=256, out_features=128, bias=True)\n",
      "          (4): BatchNorm1d(128, eps=1e-05, momentum=0.1, affine=True, track_running_stats=True)\n",
      "          (5): ReLU()\n",
      "        )\n",
      "      )\n",
      "      (4): GraphTripleConv(\n",
      "        (net1): Sequential(\n",
      "          (0): Linear(in_features=384, out_features=256, bias=True)\n",
      "          (1): BatchNorm1d(256, eps=1e-05, momentum=0.1, affine=True, track_running_stats=True)\n",
      "          (2): ReLU()\n",
      "          (3): Linear(in_features=256, out_features=640, bias=True)\n",
      "          (4): BatchNorm1d(640, eps=1e-05, momentum=0.1, affine=True, track_running_stats=True)\n",
      "          (5): ReLU()\n",
      "        )\n",
      "        (net2): Sequential(\n",
      "          (0): Linear(in_features=256, out_features=256, bias=True)\n",
      "          (1): BatchNorm1d(256, eps=1e-05, momentum=0.1, affine=True, track_running_stats=True)\n",
      "          (2): ReLU()\n",
      "          (3): Linear(in_features=256, out_features=128, bias=True)\n",
      "          (4): BatchNorm1d(128, eps=1e-05, momentum=0.1, affine=True, track_running_stats=True)\n",
      "          (5): ReLU()\n",
      "        )\n",
      "      )\n",
      "    )\n",
      "  )\n",
      "  (gconv_net_dc): GraphTripleConvNet(\n",
      "    (gconvs): ModuleList(\n",
      "      (0): GraphTripleConv(\n",
      "        (net1): Sequential(\n",
      "          (0): Linear(in_features=384, out_features=256, bias=True)\n",
      "          (1): BatchNorm1d(256, eps=1e-05, momentum=0.1, affine=True, track_running_stats=True)\n",
      "          (2): ReLU()\n",
      "          (3): Linear(in_features=256, out_features=640, bias=True)\n",
      "          (4): BatchNorm1d(640, eps=1e-05, momentum=0.1, affine=True, track_running_stats=True)\n",
      "          (5): ReLU()\n",
      "        )\n",
      "        (net2): Sequential(\n",
      "          (0): Linear(in_features=256, out_features=256, bias=True)\n",
      "          (1): BatchNorm1d(256, eps=1e-05, momentum=0.1, affine=True, track_running_stats=True)\n",
      "          (2): ReLU()\n",
      "          (3): Linear(in_features=256, out_features=128, bias=True)\n",
      "          (4): BatchNorm1d(128, eps=1e-05, momentum=0.1, affine=True, track_running_stats=True)\n",
      "          (5): ReLU()\n",
      "        )\n",
      "      )\n",
      "      (1): GraphTripleConv(\n",
      "        (net1): Sequential(\n",
      "          (0): Linear(in_features=384, out_features=256, bias=True)\n",
      "          (1): BatchNorm1d(256, eps=1e-05, momentum=0.1, affine=True, track_running_stats=True)\n",
      "          (2): ReLU()\n",
      "          (3): Linear(in_features=256, out_features=640, bias=True)\n",
      "          (4): BatchNorm1d(640, eps=1e-05, momentum=0.1, affine=True, track_running_stats=True)\n",
      "          (5): ReLU()\n",
      "        )\n",
      "        (net2): Sequential(\n",
      "          (0): Linear(in_features=256, out_features=256, bias=True)\n",
      "          (1): BatchNorm1d(256, eps=1e-05, momentum=0.1, affine=True, track_running_stats=True)\n",
      "          (2): ReLU()\n",
      "          (3): Linear(in_features=256, out_features=128, bias=True)\n",
      "          (4): BatchNorm1d(128, eps=1e-05, momentum=0.1, affine=True, track_running_stats=True)\n",
      "          (5): ReLU()\n",
      "        )\n",
      "      )\n",
      "      (2): GraphTripleConv(\n",
      "        (net1): Sequential(\n",
      "          (0): Linear(in_features=384, out_features=256, bias=True)\n",
      "          (1): BatchNorm1d(256, eps=1e-05, momentum=0.1, affine=True, track_running_stats=True)\n",
      "          (2): ReLU()\n",
      "          (3): Linear(in_features=256, out_features=640, bias=True)\n",
      "          (4): BatchNorm1d(640, eps=1e-05, momentum=0.1, affine=True, track_running_stats=True)\n",
      "          (5): ReLU()\n",
      "        )\n",
      "        (net2): Sequential(\n",
      "          (0): Linear(in_features=256, out_features=256, bias=True)\n",
      "          (1): BatchNorm1d(256, eps=1e-05, momentum=0.1, affine=True, track_running_stats=True)\n",
      "          (2): ReLU()\n",
      "          (3): Linear(in_features=256, out_features=128, bias=True)\n",
      "          (4): BatchNorm1d(128, eps=1e-05, momentum=0.1, affine=True, track_running_stats=True)\n",
      "          (5): ReLU()\n",
      "        )\n",
      "      )\n",
      "      (3): GraphTripleConv(\n",
      "        (net1): Sequential(\n",
      "          (0): Linear(in_features=384, out_features=256, bias=True)\n",
      "          (1): BatchNorm1d(256, eps=1e-05, momentum=0.1, affine=True, track_running_stats=True)\n",
      "          (2): ReLU()\n",
      "          (3): Linear(in_features=256, out_features=640, bias=True)\n",
      "          (4): BatchNorm1d(640, eps=1e-05, momentum=0.1, affine=True, track_running_stats=True)\n",
      "          (5): ReLU()\n",
      "        )\n",
      "        (net2): Sequential(\n",
      "          (0): Linear(in_features=256, out_features=256, bias=True)\n",
      "          (1): BatchNorm1d(256, eps=1e-05, momentum=0.1, affine=True, track_running_stats=True)\n",
      "          (2): ReLU()\n",
      "          (3): Linear(in_features=256, out_features=128, bias=True)\n",
      "          (4): BatchNorm1d(128, eps=1e-05, momentum=0.1, affine=True, track_running_stats=True)\n",
      "          (5): ReLU()\n",
      "        )\n",
      "      )\n",
      "      (4): GraphTripleConv(\n",
      "        (net1): Sequential(\n",
      "          (0): Linear(in_features=384, out_features=256, bias=True)\n",
      "          (1): BatchNorm1d(256, eps=1e-05, momentum=0.1, affine=True, track_running_stats=True)\n",
      "          (2): ReLU()\n",
      "          (3): Linear(in_features=256, out_features=640, bias=True)\n",
      "          (4): BatchNorm1d(640, eps=1e-05, momentum=0.1, affine=True, track_running_stats=True)\n",
      "          (5): ReLU()\n",
      "        )\n",
      "        (net2): Sequential(\n",
      "          (0): Linear(in_features=256, out_features=256, bias=True)\n",
      "          (1): BatchNorm1d(256, eps=1e-05, momentum=0.1, affine=True, track_running_stats=True)\n",
      "          (2): ReLU()\n",
      "          (3): Linear(in_features=256, out_features=128, bias=True)\n",
      "          (4): BatchNorm1d(128, eps=1e-05, momentum=0.1, affine=True, track_running_stats=True)\n",
      "          (5): ReLU()\n",
      "        )\n",
      "      )\n",
      "    )\n",
      "  )\n",
      "  (box_net): Sequential(\n",
      "    (0): Linear(in_features=144, out_features=256, bias=True)\n",
      "    (1): BatchNorm1d(256, eps=1e-05, momentum=0.1, affine=True, track_running_stats=True)\n",
      "    (2): ReLU()\n",
      "    (3): Linear(in_features=256, out_features=6, bias=True)\n",
      "  )\n",
      "  (angle_net): Sequential(\n",
      "    (0): Linear(in_features=128, out_features=256, bias=True)\n",
      "    (1): BatchNorm1d(256, eps=1e-05, momentum=0.1, affine=True, track_running_stats=True)\n",
      "    (2): ReLU()\n",
      "    (3): Linear(in_features=256, out_features=24, bias=True)\n",
      "  )\n",
      ")\n"
     ]
    }
   ],
   "source": [
    "print(model)\n",
    "model.float().cuda()\n",
    "optimizer = torch.optim.Adam(model.parameters(), lr=args.learning_rate)"
   ]
  },
  {
   "cell_type": "code",
   "execution_count": 13,
   "metadata": {},
   "outputs": [],
   "source": [
    "for batch in train_loader:\n",
    "    ids, objs, boxes, triples, angles, attributes, obj_to_img, triple_to_img = tensor_aug(batch)\n",
    "    break"
   ]
  },
  {
   "cell_type": "code",
   "execution_count": 14,
   "metadata": {
    "scrolled": true
   },
   "outputs": [
    {
     "data": {
      "text/plain": [
       "tensor([12, 38, 46,  8, 23,  5, 31, 61, 58, 13,  6, 11,  2, 21,  1,  4],\n",
       "       device='cuda:0')"
      ]
     },
     "execution_count": 14,
     "metadata": {},
     "output_type": "execute_result"
    }
   ],
   "source": [
    "ids"
   ]
  },
  {
   "cell_type": "code",
   "execution_count": 15,
   "metadata": {
    "scrolled": true
   },
   "outputs": [
    {
     "data": {
      "text/plain": [
       "tensor([ 6,  0,  6,  0,  3,  0,  0, 18,  0,  0,  0,  6,  0,  0, 21,  6,  0, 18,\n",
       "        18, 18,  0,  0, 18,  6, 18,  0,  0,  6,  0,  0,  0,  0, 23,  0,  0,  0,\n",
       "         0,  0, 18,  0,  0,  6,  6,  6, 19, 18,  5,  0,  0,  0,  0,  6,  6,  6,\n",
       "         0,  0,  0,  0,  0,  0,  0,  0,  0,  0,  0,  6,  0,  0,  6,  0,  0, 18,\n",
       "         0,  0,  0,  0,  0, 18,  0,  6, 18, 18, 18,  0, 18,  0,  0, 18, 18,  0,\n",
       "        18,  0,  0, 18, 18, 18,  0,  0], device='cuda:0')"
      ]
     },
     "execution_count": 15,
     "metadata": {},
     "output_type": "execute_result"
    }
   ],
   "source": [
    "angles"
   ]
  },
  {
   "cell_type": "code",
   "execution_count": 17,
   "metadata": {},
   "outputs": [],
   "source": [
    "model_out = model(objs, triples, boxes, angles, attributes, obj_to_img)\n",
    "mu, logvar, boxes_pred, angles_pred = model_out"
   ]
  },
  {
   "cell_type": "code",
   "execution_count": 18,
   "metadata": {},
   "outputs": [
    {
     "data": {
      "text/plain": [
       "True"
      ]
     },
     "execution_count": 18,
     "metadata": {},
     "output_type": "execute_result"
    }
   ],
   "source": [
    "model.decoder_cat"
   ]
  },
  {
   "cell_type": "code",
   "execution_count": 19,
   "metadata": {},
   "outputs": [
    {
     "data": {
      "text/plain": [
       "torch.Size([98, 64])"
      ]
     },
     "execution_count": 19,
     "metadata": {},
     "output_type": "execute_result"
    }
   ],
   "source": [
    "mu.shape"
   ]
  },
  {
   "cell_type": "code",
   "execution_count": 20,
   "metadata": {},
   "outputs": [
    {
     "data": {
      "text/plain": [
       "torch.Size([98])"
      ]
     },
     "execution_count": 20,
     "metadata": {},
     "output_type": "execute_result"
    }
   ],
   "source": [
    "objs.shape"
   ]
  },
  {
   "cell_type": "code",
   "execution_count": 21,
   "metadata": {},
   "outputs": [
    {
     "data": {
      "text/plain": [
       "Embedding(16, 128)"
      ]
     },
     "execution_count": 21,
     "metadata": {},
     "output_type": "execute_result"
    }
   ],
   "source": [
    "model.pred_embeddings_ec"
   ]
  },
  {
   "cell_type": "code",
   "execution_count": 22,
   "metadata": {},
   "outputs": [
    {
     "data": {
      "text/plain": [
       "'1.7.1'"
      ]
     },
     "execution_count": 22,
     "metadata": {},
     "output_type": "execute_result"
    }
   ],
   "source": [
    "torch.__version__"
   ]
  },
  {
   "cell_type": "code",
   "execution_count": 23,
   "metadata": {},
   "outputs": [
    {
     "data": {
      "text/plain": [
       "'11.0'"
      ]
     },
     "execution_count": 23,
     "metadata": {},
     "output_type": "execute_result"
    }
   ],
   "source": [
    "torch.version.cuda"
   ]
  },
  {
   "cell_type": "code",
   "execution_count": null,
   "metadata": {},
   "outputs": [],
   "source": []
  }
 ],
 "metadata": {
  "kernelspec": {
   "display_name": "Python 3",
   "language": "python",
   "name": "python3"
  },
  "language_info": {
   "codemirror_mode": {
    "name": "ipython",
    "version": 3
   },
   "file_extension": ".py",
   "mimetype": "text/x-python",
   "name": "python",
   "nbconvert_exporter": "python",
   "pygments_lexer": "ipython3",
   "version": "3.8.5"
  }
 },
 "nbformat": 4,
 "nbformat_minor": 5
}
